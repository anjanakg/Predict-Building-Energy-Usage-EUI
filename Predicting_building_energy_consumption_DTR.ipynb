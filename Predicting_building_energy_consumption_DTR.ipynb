{
 "cells": [
  {
   "cell_type": "markdown",
   "id": "36f06ade",
   "metadata": {
    "id": "36f06ade"
   },
   "source": [
    "<h1 style = \"color:blue;font-size:25px;font-family:verdana;text-align: center\"><center>Machine Learning for Predicting Building Energy Consumptions</center></h1>\n",
    "\n",
    "<h3 style=\"color:blue;font-size:20px;font-family:verdana\">Project Goals</h3>\n",
    " \n",
    "<h3 style=\"font-size:18px;font-family:verdana\">The main goal of this project is to predict the Site Energy Use Intensity(EUI) using available building characteristics and climate and weather variables.</h3>"
   ]
  },
  {
   "cell_type": "markdown",
   "id": "0fc24dd5",
   "metadata": {
    "id": "0fc24dd5"
   },
   "source": [
    "### **<span style=\"color:blue;\">Section 1: Look at the big picture</span>**\n",
    "\n",
    "This dataset was collected from Kaggle WiDS Datathon 2022 Competition, and it was created in collaboration with Climate Change AI (CCAI) and Lawrence Berkeley National Laboratory (Berkeley Lab). The dataset  includes roughly 100k observations of building energy usage records, building characteristics and site climate and weather data collected over 7 years and several states within the United States. Each row in the dataset corresponds to a single building observation in a given year.\n",
    "\n",
    "This dataset can use to analyze the correlation between given variables and study how they are affecting in building energy efficiency.  And it can use for creating models to predict building energy consumption. Accurate predictions of energy consumption can help policymakers target retrofitting efforts to improve building energy efficiencies and reduce energy related GHG emissions."
   ]
  },
  {
   "cell_type": "markdown",
   "id": "d383229f",
   "metadata": {
    "id": "d383229f"
   },
   "source": [
    "### **<span style=\"color:blue;\">1.1: Data Description</span>**\n",
    "\n",
    "This data includes features such as:\n",
    "\n",
    "|**Variable**|**Description**|\n",
    "|:-----------|:--------------|\n",
    "|**id:**     |building Id|1 to 75757 data instences|\n",
    "|**year_factor:**|anonymized year in which the weather and energy usage factors were observed|values between 0 and 6|\n",
    "|**state_factor:**|anonymized state in which the building is located|        \n",
    "|**building_class:**|building classification|         \n",
    "|**facility_type:**|building usage type|         \n",
    "|**floor_area:**|floor area (in **square feet**) of the building|         \n",
    "|**year_built:**|year in which the building was constructed|         \n",
    "|**energy_star_rating:**|the ENERGY STAR rating of the building(A score between 1-100). It rates building energy performance by normalizing annual energy use, as well as building type, size, location, and other operational and general asset characteristics. It is  giving an idea of the building’s energy consumption measures up against similar buildings nationwide. A score of 50 represents median energy performance, while a score of 75 or higher indicates your building is a top performer — and may be eligible for ENERGY STAR certification.|      \n",
    "|**elevation:**|elevation of the building location|       \n",
    "|**january_min_temp:**|minimum temperature in January (in **Fahrenheit**) at the location of the building|    \n",
    "|**january_avg_temp:**|average temperature in January (in **Fahrenheit**) at the location of the building|    \n",
    "|**january_max_temp:**|maximum temperature in January (in **Fahrenheit**) at the location of the building|    \n",
    "|**cooling_degree_days:**|Degree days are measures of how cold or warm a location is. A degree day compares the mean outdoor temperatures recorded for a location to a standard temperature, usually 65° Fahrenheit (F) in the United States. The more extreme the outside temperature, the higher the number of degree days. A high number of degree days generally results in higher levels of energy use for space heating or cooling. (CDD) are a measure of how hot the temperature was on a given day or during a period of days.|\n",
    "|**heating_degree_days:**|(HDD) are a measure of how cold the temperature was on a given day or during a period of days.| \n",
    "|**precipitation_inches:**|annual precipitation in **inches** at the location of the building|\n",
    "|**snowfall_inches:**|annual snowfall in **inches** at the location of the building|\n",
    "|**snowdepth_inches:**|annual snow depth in **inches** at the location of the building|\n",
    "|**avg_temp:**|average temperature in **Fahrenheit** over a year at the location of the building|\n",
    "|**days_below_30F:**|total number of days below 30 degrees **Fahrenheit** at the location of the building|\n",
    "|**days_below_20F:**|total number of days below 20 degrees **Fahrenheit** at the location of the building|\n",
    "|**days_below_10F:**|total number of days below 10 degrees **Fahrenheit** at the location of the building|\n",
    "|**days_below_0F:**|total number of days below 0 degrees **Fahrenheit** at the location of the building|\n",
    "|**days_above_80F:**|total number of days above 80 degrees Fahrenheit at the location of the building|\n",
    "|**days_above_90F:**|total number of days above 90 degrees Fahrenheit at the location of the building|\n",
    "|**days_above_100F:**|total number of days above 100 degrees Fahrenheit at the location of the building|\n",
    "|**days_above_110F:**|total number of days above 110 degrees Fahrenheit at the location of the building|\n",
    "|**direction_max_wind_speed:**|wind direction for maximum wind speed at the location of the building. Given in 360-degree compass point directions (e.g. 360 = north, 180 = south, etc.)|\n",
    "|**direction_peak_wind_speed:**|wind direction for peak wind gust speed at the location of the building. Given in 360-degree compass point directions (e.g. 360 = north, 180 = south, etc.)|\n",
    "|**max_wind_speed:**|maximum wind speed at the location of the building|\n",
    "|**days_with_fog:**|number of days with fog at the location of the building|\n",
    "|**site_eui**|Energy Use Intensity (EUI) refers to the amount of energy used of the building per square foot annually. It’s calculated by dividing the total energy consumed by the building in a year by the total gross floor area. EUI is the prime indicator of a building’s energy performance. Generally, a low EUI signifies good energy performance(But not a norm). EUI is often used to compare buildings of the same use type.|\n"
   ]
  },
  {
   "cell_type": "markdown",
   "id": "c144f43c",
   "metadata": {
    "id": "c144f43c"
   },
   "source": [
    "### **<span style=\"color:blue;\">Section 2: Get the Data</span>** "
   ]
  },
  {
   "cell_type": "code",
   "execution_count": 1,
   "id": "dfa14942",
   "metadata": {
    "id": "dfa14942"
   },
   "outputs": [],
   "source": [
    "# Import Libraries\n",
    "\n",
    "# Data manipulation\n",
    "import numpy as np\n",
    "import pandas as pd\n",
    "\n",
    "# Plotting and visualization\n",
    "import matplotlib.pyplot as plt\n",
    "import seaborn as sns\n",
    "\n",
    "# for scientific Computing\n",
    "from scipy.stats import norm \n",
    "from scipy import stats\n",
    "from scipy.stats import skew\n",
    "from scipy.stats import boxcox\n",
    "\n",
    "# Visualising data completeness\n",
    "import missingno as msno\n",
    "\n",
    "import warnings\n",
    "warnings.filterwarnings('ignore')"
   ]
  },
  {
   "cell_type": "code",
   "execution_count": 2,
   "id": "e9bc738a",
   "metadata": {
    "id": "e9bc738a"
   },
   "outputs": [],
   "source": [
    "# Read the data\n",
    "data_original = pd.read_csv('train.csv', index_col='id')\n",
    "#df = pd.read_csv('train.csv')"
   ]
  },
  {
   "cell_type": "markdown",
   "id": "fdd7bc29",
   "metadata": {
    "id": "fdd7bc29"
   },
   "source": [
    "### **<span style=\"color:blue;\">2.1: Take a Quick Look at the Data Structure</span>** "
   ]
  },
  {
   "cell_type": "code",
   "execution_count": 3,
   "id": "573ffba2",
   "metadata": {
    "colab": {
     "base_uri": "https://localhost:8080/",
     "height": 331
    },
    "id": "573ffba2",
    "outputId": "ac3911f3-006b-4339-d955-05e2438a674d"
   },
   "outputs": [
    {
     "data": {
      "text/html": [
       "<div>\n",
       "<style scoped>\n",
       "    .dataframe tbody tr th:only-of-type {\n",
       "        vertical-align: middle;\n",
       "    }\n",
       "\n",
       "    .dataframe tbody tr th {\n",
       "        vertical-align: top;\n",
       "    }\n",
       "\n",
       "    .dataframe thead th {\n",
       "        text-align: right;\n",
       "    }\n",
       "</style>\n",
       "<table border=\"1\" class=\"dataframe\">\n",
       "  <thead>\n",
       "    <tr style=\"text-align: right;\">\n",
       "      <th></th>\n",
       "      <th>year_factor</th>\n",
       "      <th>state_factor</th>\n",
       "      <th>building_class</th>\n",
       "      <th>facility_type</th>\n",
       "      <th>floor_area</th>\n",
       "      <th>year_built</th>\n",
       "      <th>energy_star_rating</th>\n",
       "      <th>elevation</th>\n",
       "      <th>january_min_temp</th>\n",
       "      <th>january_avg_temp</th>\n",
       "      <th>...</th>\n",
       "      <th>days_below_0F</th>\n",
       "      <th>days_above_80F</th>\n",
       "      <th>days_above_90F</th>\n",
       "      <th>days_above_100F</th>\n",
       "      <th>days_above_110F</th>\n",
       "      <th>direction_max_wind_speed</th>\n",
       "      <th>direction_peak_wind_speed</th>\n",
       "      <th>max_wind_speed</th>\n",
       "      <th>days_with_fog</th>\n",
       "      <th>site_eui</th>\n",
       "    </tr>\n",
       "    <tr>\n",
       "      <th>id</th>\n",
       "      <th></th>\n",
       "      <th></th>\n",
       "      <th></th>\n",
       "      <th></th>\n",
       "      <th></th>\n",
       "      <th></th>\n",
       "      <th></th>\n",
       "      <th></th>\n",
       "      <th></th>\n",
       "      <th></th>\n",
       "      <th></th>\n",
       "      <th></th>\n",
       "      <th></th>\n",
       "      <th></th>\n",
       "      <th></th>\n",
       "      <th></th>\n",
       "      <th></th>\n",
       "      <th></th>\n",
       "      <th></th>\n",
       "      <th></th>\n",
       "      <th></th>\n",
       "    </tr>\n",
       "  </thead>\n",
       "  <tbody>\n",
       "    <tr>\n",
       "      <th>0</th>\n",
       "      <td>1</td>\n",
       "      <td>State_1</td>\n",
       "      <td>Commercial</td>\n",
       "      <td>Grocery_store_or_food_market</td>\n",
       "      <td>61242.0</td>\n",
       "      <td>1942.0</td>\n",
       "      <td>11.0</td>\n",
       "      <td>2.4</td>\n",
       "      <td>36</td>\n",
       "      <td>50.5</td>\n",
       "      <td>...</td>\n",
       "      <td>0</td>\n",
       "      <td>14</td>\n",
       "      <td>0</td>\n",
       "      <td>0</td>\n",
       "      <td>0</td>\n",
       "      <td>1.0</td>\n",
       "      <td>1.0</td>\n",
       "      <td>1.0</td>\n",
       "      <td>NaN</td>\n",
       "      <td>248.682615</td>\n",
       "    </tr>\n",
       "    <tr>\n",
       "      <th>1</th>\n",
       "      <td>1</td>\n",
       "      <td>State_1</td>\n",
       "      <td>Commercial</td>\n",
       "      <td>Warehouse_Distribution_or_Shipping_center</td>\n",
       "      <td>274000.0</td>\n",
       "      <td>1955.0</td>\n",
       "      <td>45.0</td>\n",
       "      <td>1.8</td>\n",
       "      <td>36</td>\n",
       "      <td>50.5</td>\n",
       "      <td>...</td>\n",
       "      <td>0</td>\n",
       "      <td>14</td>\n",
       "      <td>0</td>\n",
       "      <td>0</td>\n",
       "      <td>0</td>\n",
       "      <td>1.0</td>\n",
       "      <td>NaN</td>\n",
       "      <td>1.0</td>\n",
       "      <td>12.0</td>\n",
       "      <td>26.500150</td>\n",
       "    </tr>\n",
       "    <tr>\n",
       "      <th>2</th>\n",
       "      <td>1</td>\n",
       "      <td>State_1</td>\n",
       "      <td>Commercial</td>\n",
       "      <td>Retail_Enclosed_mall</td>\n",
       "      <td>280025.0</td>\n",
       "      <td>1951.0</td>\n",
       "      <td>97.0</td>\n",
       "      <td>1.8</td>\n",
       "      <td>36</td>\n",
       "      <td>50.5</td>\n",
       "      <td>...</td>\n",
       "      <td>0</td>\n",
       "      <td>14</td>\n",
       "      <td>0</td>\n",
       "      <td>0</td>\n",
       "      <td>0</td>\n",
       "      <td>1.0</td>\n",
       "      <td>NaN</td>\n",
       "      <td>1.0</td>\n",
       "      <td>12.0</td>\n",
       "      <td>24.693619</td>\n",
       "    </tr>\n",
       "    <tr>\n",
       "      <th>3</th>\n",
       "      <td>1</td>\n",
       "      <td>State_1</td>\n",
       "      <td>Commercial</td>\n",
       "      <td>Education_Other_classroom</td>\n",
       "      <td>55325.0</td>\n",
       "      <td>1980.0</td>\n",
       "      <td>46.0</td>\n",
       "      <td>1.8</td>\n",
       "      <td>36</td>\n",
       "      <td>50.5</td>\n",
       "      <td>...</td>\n",
       "      <td>0</td>\n",
       "      <td>14</td>\n",
       "      <td>0</td>\n",
       "      <td>0</td>\n",
       "      <td>0</td>\n",
       "      <td>1.0</td>\n",
       "      <td>NaN</td>\n",
       "      <td>1.0</td>\n",
       "      <td>12.0</td>\n",
       "      <td>48.406926</td>\n",
       "    </tr>\n",
       "    <tr>\n",
       "      <th>4</th>\n",
       "      <td>1</td>\n",
       "      <td>State_1</td>\n",
       "      <td>Commercial</td>\n",
       "      <td>Warehouse_Nonrefrigerated</td>\n",
       "      <td>66000.0</td>\n",
       "      <td>1985.0</td>\n",
       "      <td>100.0</td>\n",
       "      <td>2.4</td>\n",
       "      <td>36</td>\n",
       "      <td>50.5</td>\n",
       "      <td>...</td>\n",
       "      <td>0</td>\n",
       "      <td>14</td>\n",
       "      <td>0</td>\n",
       "      <td>0</td>\n",
       "      <td>0</td>\n",
       "      <td>1.0</td>\n",
       "      <td>1.0</td>\n",
       "      <td>1.0</td>\n",
       "      <td>NaN</td>\n",
       "      <td>3.899395</td>\n",
       "    </tr>\n",
       "  </tbody>\n",
       "</table>\n",
       "<p>5 rows × 63 columns</p>\n",
       "</div>"
      ],
      "text/plain": [
       "    year_factor state_factor building_class  \\\n",
       "id                                            \n",
       "0             1      State_1     Commercial   \n",
       "1             1      State_1     Commercial   \n",
       "2             1      State_1     Commercial   \n",
       "3             1      State_1     Commercial   \n",
       "4             1      State_1     Commercial   \n",
       "\n",
       "                                facility_type  floor_area  year_built  \\\n",
       "id                                                                      \n",
       "0                Grocery_store_or_food_market     61242.0      1942.0   \n",
       "1   Warehouse_Distribution_or_Shipping_center    274000.0      1955.0   \n",
       "2                        Retail_Enclosed_mall    280025.0      1951.0   \n",
       "3                   Education_Other_classroom     55325.0      1980.0   \n",
       "4                   Warehouse_Nonrefrigerated     66000.0      1985.0   \n",
       "\n",
       "    energy_star_rating  elevation  january_min_temp  january_avg_temp  ...  \\\n",
       "id                                                                     ...   \n",
       "0                 11.0        2.4                36              50.5  ...   \n",
       "1                 45.0        1.8                36              50.5  ...   \n",
       "2                 97.0        1.8                36              50.5  ...   \n",
       "3                 46.0        1.8                36              50.5  ...   \n",
       "4                100.0        2.4                36              50.5  ...   \n",
       "\n",
       "    days_below_0F  days_above_80F  days_above_90F  days_above_100F  \\\n",
       "id                                                                   \n",
       "0               0              14               0                0   \n",
       "1               0              14               0                0   \n",
       "2               0              14               0                0   \n",
       "3               0              14               0                0   \n",
       "4               0              14               0                0   \n",
       "\n",
       "    days_above_110F  direction_max_wind_speed  direction_peak_wind_speed  \\\n",
       "id                                                                         \n",
       "0                 0                       1.0                        1.0   \n",
       "1                 0                       1.0                        NaN   \n",
       "2                 0                       1.0                        NaN   \n",
       "3                 0                       1.0                        NaN   \n",
       "4                 0                       1.0                        1.0   \n",
       "\n",
       "    max_wind_speed  days_with_fog    site_eui  \n",
       "id                                             \n",
       "0              1.0            NaN  248.682615  \n",
       "1              1.0           12.0   26.500150  \n",
       "2              1.0           12.0   24.693619  \n",
       "3              1.0           12.0   48.406926  \n",
       "4              1.0            NaN    3.899395  \n",
       "\n",
       "[5 rows x 63 columns]"
      ]
     },
     "execution_count": 3,
     "metadata": {},
     "output_type": "execute_result"
    }
   ],
   "source": [
    "data_original.head()"
   ]
  },
  {
   "cell_type": "markdown",
   "id": "684a7558",
   "metadata": {
    "id": "684a7558"
   },
   "source": [
    "<div class=\"alert alert-block alert-info\">\n",
    "Each data instance(row) represents one district and has 64 attributes, including the data \"id\". \n",
    "</div>"
   ]
  },
  {
   "cell_type": "code",
   "execution_count": 4,
   "id": "927fc3c4",
   "metadata": {
    "colab": {
     "base_uri": "https://localhost:8080/"
    },
    "id": "927fc3c4",
    "outputId": "f42d2930-527b-40ed-fd79-e3ff007a2342"
   },
   "outputs": [
    {
     "name": "stdout",
     "output_type": "stream",
     "text": [
      "<class 'pandas.core.frame.DataFrame'>\n",
      "Int64Index: 75757 entries, 0 to 75756\n",
      "Data columns (total 63 columns):\n",
      " #   Column                     Non-Null Count  Dtype  \n",
      "---  ------                     --------------  -----  \n",
      " 0   year_factor                75757 non-null  int64  \n",
      " 1   state_factor               75757 non-null  object \n",
      " 2   building_class             75757 non-null  object \n",
      " 3   facility_type              75757 non-null  object \n",
      " 4   floor_area                 75757 non-null  float64\n",
      " 5   year_built                 73920 non-null  float64\n",
      " 6   energy_star_rating         49048 non-null  float64\n",
      " 7   elevation                  75757 non-null  float64\n",
      " 8   january_min_temp           75757 non-null  int64  \n",
      " 9   january_avg_temp           75757 non-null  float64\n",
      " 10  january_max_temp           75757 non-null  int64  \n",
      " 11  february_min_temp          75757 non-null  int64  \n",
      " 12  february_avg_temp          75757 non-null  float64\n",
      " 13  february_max_temp          75757 non-null  int64  \n",
      " 14  march_min_temp             75757 non-null  int64  \n",
      " 15  march_avg_temp             75757 non-null  float64\n",
      " 16  march_max_temp             75757 non-null  int64  \n",
      " 17  april_min_temp             75757 non-null  int64  \n",
      " 18  april_avg_temp             75757 non-null  float64\n",
      " 19  april_max_temp             75757 non-null  int64  \n",
      " 20  may_min_temp               75757 non-null  int64  \n",
      " 21  may_avg_temp               75757 non-null  float64\n",
      " 22  may_max_temp               75757 non-null  int64  \n",
      " 23  june_min_temp              75757 non-null  int64  \n",
      " 24  june_avg_temp              75757 non-null  float64\n",
      " 25  june_max_temp              75757 non-null  int64  \n",
      " 26  july_min_temp              75757 non-null  int64  \n",
      " 27  july_avg_temp              75757 non-null  float64\n",
      " 28  july_max_temp              75757 non-null  int64  \n",
      " 29  august_min_temp            75757 non-null  int64  \n",
      " 30  august_avg_temp            75757 non-null  float64\n",
      " 31  august_max_temp            75757 non-null  int64  \n",
      " 32  september_min_temp         75757 non-null  int64  \n",
      " 33  september_avg_temp         75757 non-null  float64\n",
      " 34  september_max_temp         75757 non-null  int64  \n",
      " 35  october_min_temp           75757 non-null  int64  \n",
      " 36  october_avg_temp           75757 non-null  float64\n",
      " 37  october_max_temp           75757 non-null  int64  \n",
      " 38  november_min_temp          75757 non-null  int64  \n",
      " 39  november_avg_temp          75757 non-null  float64\n",
      " 40  november_max_temp          75757 non-null  int64  \n",
      " 41  december_min_temp          75757 non-null  int64  \n",
      " 42  december_avg_temp          75757 non-null  float64\n",
      " 43  december_max_temp          75757 non-null  int64  \n",
      " 44  cooling_degree_days        75757 non-null  int64  \n",
      " 45  heating_degree_days        75757 non-null  int64  \n",
      " 46  precipitation_inches       75757 non-null  float64\n",
      " 47  snowfall_inches            75757 non-null  float64\n",
      " 48  snowdepth_inches           75757 non-null  int64  \n",
      " 49  avg_temp                   75757 non-null  float64\n",
      " 50  days_below_30F             75757 non-null  int64  \n",
      " 51  days_below_20F             75757 non-null  int64  \n",
      " 52  days_below_10F             75757 non-null  int64  \n",
      " 53  days_below_0F              75757 non-null  int64  \n",
      " 54  days_above_80F             75757 non-null  int64  \n",
      " 55  days_above_90F             75757 non-null  int64  \n",
      " 56  days_above_100F            75757 non-null  int64  \n",
      " 57  days_above_110F            75757 non-null  int64  \n",
      " 58  direction_max_wind_speed   34675 non-null  float64\n",
      " 59  direction_peak_wind_speed  33946 non-null  float64\n",
      " 60  max_wind_speed             34675 non-null  float64\n",
      " 61  days_with_fog              29961 non-null  float64\n",
      " 62  site_eui                   75757 non-null  float64\n",
      "dtypes: float64(24), int64(36), object(3)\n",
      "memory usage: 37.0+ MB\n"
     ]
    }
   ],
   "source": [
    "data_original.info()"
   ]
  },
  {
   "cell_type": "markdown",
   "id": "507e16a5",
   "metadata": {
    "id": "507e16a5"
   },
   "source": [
    "<div class=\"alert alert-block alert-info\">\n",
    "There exist  $75,757$  instances (rows) in the dataset. \n",
    "\n",
    "6  attributes have missing data, we will need to take care of this later.\n",
    "\n",
    "Most of attributes are numerical, except state_factor, building_class, and facility_type.\n",
    "    \n",
    "</div>"
   ]
  },
  {
   "cell_type": "markdown",
   "id": "11562fc8",
   "metadata": {
    "id": "11562fc8"
   },
   "source": [
    "<div class=\"alert alert-block alert-success\">\n",
    "The attribute \"year_building\" has no meaning. So I turned it to a new attribute \"building_age\".\n",
    "</div>"
   ]
  },
  {
   "cell_type": "code",
   "execution_count": 5,
   "id": "a7d0cf9e",
   "metadata": {
    "id": "a7d0cf9e"
   },
   "outputs": [],
   "source": [
    "# Create a new column 'building_age' by using the variable 'year_built'\n",
    "data = data_original.copy(deep=True)\n",
    "from datetime import date\n",
    "data['building_age'] = data.apply(lambda row:(date.today().year-row.year_built), axis = 1)\n",
    "first_column = data.pop('building_age')\n",
    "data.insert(62, 'building_age', first_column)"
   ]
  },
  {
   "cell_type": "code",
   "execution_count": 6,
   "id": "88db2f09",
   "metadata": {
    "colab": {
     "base_uri": "https://localhost:8080/",
     "height": 331
    },
    "id": "88db2f09",
    "outputId": "3a410a6f-5221-4791-e6f4-6b62e84730e8"
   },
   "outputs": [
    {
     "data": {
      "text/html": [
       "<div>\n",
       "<style scoped>\n",
       "    .dataframe tbody tr th:only-of-type {\n",
       "        vertical-align: middle;\n",
       "    }\n",
       "\n",
       "    .dataframe tbody tr th {\n",
       "        vertical-align: top;\n",
       "    }\n",
       "\n",
       "    .dataframe thead th {\n",
       "        text-align: right;\n",
       "    }\n",
       "</style>\n",
       "<table border=\"1\" class=\"dataframe\">\n",
       "  <thead>\n",
       "    <tr style=\"text-align: right;\">\n",
       "      <th></th>\n",
       "      <th>year_factor</th>\n",
       "      <th>state_factor</th>\n",
       "      <th>building_class</th>\n",
       "      <th>facility_type</th>\n",
       "      <th>floor_area</th>\n",
       "      <th>energy_star_rating</th>\n",
       "      <th>elevation</th>\n",
       "      <th>january_min_temp</th>\n",
       "      <th>january_avg_temp</th>\n",
       "      <th>january_max_temp</th>\n",
       "      <th>...</th>\n",
       "      <th>days_above_80F</th>\n",
       "      <th>days_above_90F</th>\n",
       "      <th>days_above_100F</th>\n",
       "      <th>days_above_110F</th>\n",
       "      <th>direction_max_wind_speed</th>\n",
       "      <th>direction_peak_wind_speed</th>\n",
       "      <th>max_wind_speed</th>\n",
       "      <th>days_with_fog</th>\n",
       "      <th>building_age</th>\n",
       "      <th>site_eui</th>\n",
       "    </tr>\n",
       "    <tr>\n",
       "      <th>id</th>\n",
       "      <th></th>\n",
       "      <th></th>\n",
       "      <th></th>\n",
       "      <th></th>\n",
       "      <th></th>\n",
       "      <th></th>\n",
       "      <th></th>\n",
       "      <th></th>\n",
       "      <th></th>\n",
       "      <th></th>\n",
       "      <th></th>\n",
       "      <th></th>\n",
       "      <th></th>\n",
       "      <th></th>\n",
       "      <th></th>\n",
       "      <th></th>\n",
       "      <th></th>\n",
       "      <th></th>\n",
       "      <th></th>\n",
       "      <th></th>\n",
       "      <th></th>\n",
       "    </tr>\n",
       "  </thead>\n",
       "  <tbody>\n",
       "    <tr>\n",
       "      <th>0</th>\n",
       "      <td>1</td>\n",
       "      <td>State_1</td>\n",
       "      <td>Commercial</td>\n",
       "      <td>Grocery_store_or_food_market</td>\n",
       "      <td>61242.0</td>\n",
       "      <td>11.0</td>\n",
       "      <td>2.4</td>\n",
       "      <td>36</td>\n",
       "      <td>50.5</td>\n",
       "      <td>68</td>\n",
       "      <td>...</td>\n",
       "      <td>14</td>\n",
       "      <td>0</td>\n",
       "      <td>0</td>\n",
       "      <td>0</td>\n",
       "      <td>1.0</td>\n",
       "      <td>1.0</td>\n",
       "      <td>1.0</td>\n",
       "      <td>NaN</td>\n",
       "      <td>80.0</td>\n",
       "      <td>248.682615</td>\n",
       "    </tr>\n",
       "    <tr>\n",
       "      <th>1</th>\n",
       "      <td>1</td>\n",
       "      <td>State_1</td>\n",
       "      <td>Commercial</td>\n",
       "      <td>Warehouse_Distribution_or_Shipping_center</td>\n",
       "      <td>274000.0</td>\n",
       "      <td>45.0</td>\n",
       "      <td>1.8</td>\n",
       "      <td>36</td>\n",
       "      <td>50.5</td>\n",
       "      <td>68</td>\n",
       "      <td>...</td>\n",
       "      <td>14</td>\n",
       "      <td>0</td>\n",
       "      <td>0</td>\n",
       "      <td>0</td>\n",
       "      <td>1.0</td>\n",
       "      <td>NaN</td>\n",
       "      <td>1.0</td>\n",
       "      <td>12.0</td>\n",
       "      <td>67.0</td>\n",
       "      <td>26.500150</td>\n",
       "    </tr>\n",
       "    <tr>\n",
       "      <th>2</th>\n",
       "      <td>1</td>\n",
       "      <td>State_1</td>\n",
       "      <td>Commercial</td>\n",
       "      <td>Retail_Enclosed_mall</td>\n",
       "      <td>280025.0</td>\n",
       "      <td>97.0</td>\n",
       "      <td>1.8</td>\n",
       "      <td>36</td>\n",
       "      <td>50.5</td>\n",
       "      <td>68</td>\n",
       "      <td>...</td>\n",
       "      <td>14</td>\n",
       "      <td>0</td>\n",
       "      <td>0</td>\n",
       "      <td>0</td>\n",
       "      <td>1.0</td>\n",
       "      <td>NaN</td>\n",
       "      <td>1.0</td>\n",
       "      <td>12.0</td>\n",
       "      <td>71.0</td>\n",
       "      <td>24.693619</td>\n",
       "    </tr>\n",
       "    <tr>\n",
       "      <th>3</th>\n",
       "      <td>1</td>\n",
       "      <td>State_1</td>\n",
       "      <td>Commercial</td>\n",
       "      <td>Education_Other_classroom</td>\n",
       "      <td>55325.0</td>\n",
       "      <td>46.0</td>\n",
       "      <td>1.8</td>\n",
       "      <td>36</td>\n",
       "      <td>50.5</td>\n",
       "      <td>68</td>\n",
       "      <td>...</td>\n",
       "      <td>14</td>\n",
       "      <td>0</td>\n",
       "      <td>0</td>\n",
       "      <td>0</td>\n",
       "      <td>1.0</td>\n",
       "      <td>NaN</td>\n",
       "      <td>1.0</td>\n",
       "      <td>12.0</td>\n",
       "      <td>42.0</td>\n",
       "      <td>48.406926</td>\n",
       "    </tr>\n",
       "    <tr>\n",
       "      <th>4</th>\n",
       "      <td>1</td>\n",
       "      <td>State_1</td>\n",
       "      <td>Commercial</td>\n",
       "      <td>Warehouse_Nonrefrigerated</td>\n",
       "      <td>66000.0</td>\n",
       "      <td>100.0</td>\n",
       "      <td>2.4</td>\n",
       "      <td>36</td>\n",
       "      <td>50.5</td>\n",
       "      <td>68</td>\n",
       "      <td>...</td>\n",
       "      <td>14</td>\n",
       "      <td>0</td>\n",
       "      <td>0</td>\n",
       "      <td>0</td>\n",
       "      <td>1.0</td>\n",
       "      <td>1.0</td>\n",
       "      <td>1.0</td>\n",
       "      <td>NaN</td>\n",
       "      <td>37.0</td>\n",
       "      <td>3.899395</td>\n",
       "    </tr>\n",
       "  </tbody>\n",
       "</table>\n",
       "<p>5 rows × 63 columns</p>\n",
       "</div>"
      ],
      "text/plain": [
       "    year_factor state_factor building_class  \\\n",
       "id                                            \n",
       "0             1      State_1     Commercial   \n",
       "1             1      State_1     Commercial   \n",
       "2             1      State_1     Commercial   \n",
       "3             1      State_1     Commercial   \n",
       "4             1      State_1     Commercial   \n",
       "\n",
       "                                facility_type  floor_area  energy_star_rating  \\\n",
       "id                                                                              \n",
       "0                Grocery_store_or_food_market     61242.0                11.0   \n",
       "1   Warehouse_Distribution_or_Shipping_center    274000.0                45.0   \n",
       "2                        Retail_Enclosed_mall    280025.0                97.0   \n",
       "3                   Education_Other_classroom     55325.0                46.0   \n",
       "4                   Warehouse_Nonrefrigerated     66000.0               100.0   \n",
       "\n",
       "    elevation  january_min_temp  january_avg_temp  january_max_temp  ...  \\\n",
       "id                                                                   ...   \n",
       "0         2.4                36              50.5                68  ...   \n",
       "1         1.8                36              50.5                68  ...   \n",
       "2         1.8                36              50.5                68  ...   \n",
       "3         1.8                36              50.5                68  ...   \n",
       "4         2.4                36              50.5                68  ...   \n",
       "\n",
       "    days_above_80F  days_above_90F  days_above_100F  days_above_110F  \\\n",
       "id                                                                     \n",
       "0               14               0                0                0   \n",
       "1               14               0                0                0   \n",
       "2               14               0                0                0   \n",
       "3               14               0                0                0   \n",
       "4               14               0                0                0   \n",
       "\n",
       "    direction_max_wind_speed  direction_peak_wind_speed  max_wind_speed  \\\n",
       "id                                                                        \n",
       "0                        1.0                        1.0             1.0   \n",
       "1                        1.0                        NaN             1.0   \n",
       "2                        1.0                        NaN             1.0   \n",
       "3                        1.0                        NaN             1.0   \n",
       "4                        1.0                        1.0             1.0   \n",
       "\n",
       "    days_with_fog  building_age    site_eui  \n",
       "id                                           \n",
       "0             NaN          80.0  248.682615  \n",
       "1            12.0          67.0   26.500150  \n",
       "2            12.0          71.0   24.693619  \n",
       "3            12.0          42.0   48.406926  \n",
       "4             NaN          37.0    3.899395  \n",
       "\n",
       "[5 rows x 63 columns]"
      ]
     },
     "execution_count": 6,
     "metadata": {},
     "output_type": "execute_result"
    }
   ],
   "source": [
    "# Drop the variable 'year_built' from the dataframe\n",
    "data = data.drop(['year_built'], axis = 1)\n",
    "data.head()"
   ]
  },
  {
   "cell_type": "markdown",
   "id": "628aafb7",
   "metadata": {
    "id": "628aafb7"
   },
   "source": [
    "### **<span style=\"color:blue;\">2.3: Dealing with Missing Data</span>**"
   ]
  },
  {
   "cell_type": "code",
   "execution_count": 7,
   "id": "4c525b18",
   "metadata": {
    "colab": {
     "base_uri": "https://localhost:8080/",
     "height": 272
    },
    "id": "4c525b18",
    "outputId": "9926283a-d3bb-4a82-d722-d50c2ee85e2e"
   },
   "outputs": [
    {
     "name": "stdout",
     "output_type": "stream",
     "text": [
      "Your selected dataframe has 63 columns and 75757 Rows.\n",
      "There are 6 columns that have missing values.\n"
     ]
    },
    {
     "data": {
      "text/html": [
       "<div>\n",
       "<style scoped>\n",
       "    .dataframe tbody tr th:only-of-type {\n",
       "        vertical-align: middle;\n",
       "    }\n",
       "\n",
       "    .dataframe tbody tr th {\n",
       "        vertical-align: top;\n",
       "    }\n",
       "\n",
       "    .dataframe thead th {\n",
       "        text-align: right;\n",
       "    }\n",
       "</style>\n",
       "<table border=\"1\" class=\"dataframe\">\n",
       "  <thead>\n",
       "    <tr style=\"text-align: right;\">\n",
       "      <th></th>\n",
       "      <th>Zero Values</th>\n",
       "      <th>Missing Values</th>\n",
       "      <th>% of Total Values</th>\n",
       "      <th>Total Zero Missing Values</th>\n",
       "      <th>% Total Zero Missing Values</th>\n",
       "      <th>Data Type</th>\n",
       "    </tr>\n",
       "  </thead>\n",
       "  <tbody>\n",
       "    <tr>\n",
       "      <th>days_with_fog</th>\n",
       "      <td>0</td>\n",
       "      <td>45796</td>\n",
       "      <td>60.5</td>\n",
       "      <td>45796</td>\n",
       "      <td>60.5</td>\n",
       "      <td>float64</td>\n",
       "    </tr>\n",
       "    <tr>\n",
       "      <th>direction_peak_wind_speed</th>\n",
       "      <td>0</td>\n",
       "      <td>41811</td>\n",
       "      <td>55.2</td>\n",
       "      <td>41811</td>\n",
       "      <td>55.2</td>\n",
       "      <td>float64</td>\n",
       "    </tr>\n",
       "    <tr>\n",
       "      <th>direction_max_wind_speed</th>\n",
       "      <td>0</td>\n",
       "      <td>41082</td>\n",
       "      <td>54.2</td>\n",
       "      <td>41082</td>\n",
       "      <td>54.2</td>\n",
       "      <td>float64</td>\n",
       "    </tr>\n",
       "    <tr>\n",
       "      <th>max_wind_speed</th>\n",
       "      <td>0</td>\n",
       "      <td>41082</td>\n",
       "      <td>54.2</td>\n",
       "      <td>41082</td>\n",
       "      <td>54.2</td>\n",
       "      <td>float64</td>\n",
       "    </tr>\n",
       "    <tr>\n",
       "      <th>energy_star_rating</th>\n",
       "      <td>1</td>\n",
       "      <td>26709</td>\n",
       "      <td>35.3</td>\n",
       "      <td>26710</td>\n",
       "      <td>35.3</td>\n",
       "      <td>float64</td>\n",
       "    </tr>\n",
       "    <tr>\n",
       "      <th>building_age</th>\n",
       "      <td>0</td>\n",
       "      <td>1837</td>\n",
       "      <td>2.4</td>\n",
       "      <td>1837</td>\n",
       "      <td>2.4</td>\n",
       "      <td>float64</td>\n",
       "    </tr>\n",
       "  </tbody>\n",
       "</table>\n",
       "</div>"
      ],
      "text/plain": [
       "                           Zero Values  Missing Values  % of Total Values  \\\n",
       "days_with_fog                        0           45796               60.5   \n",
       "direction_peak_wind_speed            0           41811               55.2   \n",
       "direction_max_wind_speed             0           41082               54.2   \n",
       "max_wind_speed                       0           41082               54.2   \n",
       "energy_star_rating                   1           26709               35.3   \n",
       "building_age                         0            1837                2.4   \n",
       "\n",
       "                           Total Zero Missing Values  \\\n",
       "days_with_fog                                  45796   \n",
       "direction_peak_wind_speed                      41811   \n",
       "direction_max_wind_speed                       41082   \n",
       "max_wind_speed                                 41082   \n",
       "energy_star_rating                             26710   \n",
       "building_age                                    1837   \n",
       "\n",
       "                           % Total Zero Missing Values Data Type  \n",
       "days_with_fog                                     60.5   float64  \n",
       "direction_peak_wind_speed                         55.2   float64  \n",
       "direction_max_wind_speed                          54.2   float64  \n",
       "max_wind_speed                                    54.2   float64  \n",
       "energy_star_rating                                35.3   float64  \n",
       "building_age                                       2.4   float64  "
      ]
     },
     "execution_count": 7,
     "metadata": {},
     "output_type": "execute_result"
    }
   ],
   "source": [
    "def missing_zero_values_table(df):\n",
    "        zero_val = (df == 0.00).astype(int).sum(axis=0)\n",
    "        mis_val = df.isnull().sum()\n",
    "        mis_val_percent = 100 * df.isnull().sum() / len(df)\n",
    "        mz_table = pd.concat([zero_val, mis_val, mis_val_percent], axis=1)\n",
    "        mz_table = mz_table.rename(\n",
    "        columns = {0 : 'Zero Values', 1 : 'Missing Values', 2 : '% of Total Values'})\n",
    "        mz_table['Total Zero Missing Values'] = mz_table['Zero Values'] + mz_table['Missing Values']\n",
    "        mz_table['% Total Zero Missing Values'] = 100 * mz_table['Total Zero Missing Values'] / len(df)\n",
    "        mz_table['Data Type'] = df.dtypes\n",
    "        mz_table = mz_table[\n",
    "            mz_table.iloc[:,1] != 0].sort_values(\n",
    "        '% of Total Values', ascending=False).round(1)\n",
    "        print (\"Your selected dataframe has \" + str(df.shape[1]) + \" columns and \" + str(df.shape[0]) + \" Rows.\\n\"      \n",
    "            \"There are \" + str(mz_table.shape[0]) +\n",
    "              \" columns that have missing values.\")\n",
    "        return mz_table\n",
    "\n",
    "missing_zero_values_table(data)"
   ]
  },
  {
   "cell_type": "code",
   "execution_count": 8,
   "id": "c385737f",
   "metadata": {
    "colab": {
     "base_uri": "https://localhost:8080/",
     "height": 441
    },
    "id": "c385737f",
    "outputId": "ce60b4d5-8487-488b-a20b-5386d6a9571f"
   },
   "outputs": [
    {
     "data": {
      "image/png": "[encoded data removed]",
      "text/plain": [
       "<Figure size 1008x432 with 1 Axes>"
      ]
     },
     "metadata": {
      "needs_background": "light"
     },
     "output_type": "display_data"
    }
   ],
   "source": [
    "# Missing values in the dataset\n",
    "plt.figure(figsize = (14, 6))\n",
    "df_temp = data.isna().sum() * 100 / len(data)\n",
    "s = sns.barplot(y = df_temp.values, x = df_temp.index)\n",
    "s.set_ylim(0, 100)\n",
    "s.set_xlabel(\"column\", fontsize = 12)\n",
    "s.set_ylabel(\"% of missing values\", fontsize = 12)\n",
    "s.tick_params(direction=\"in\", left=True, bottom =True)\n",
    "plt.xticks(rotation='vertical', ha='center')\n",
    "plt.axhline(y=25, color='red', linestyle='--', linewidth =1)\n",
    "plt.axhline(y=50, color='red', linestyle='--', linewidth =1)\n",
    "plt.axhline(y=75, color='red', linestyle='--', linewidth =1)\n",
    "plt.tight_layout()\n",
    "plt.show()"
   ]
  },
  {
   "cell_type": "markdown",
   "id": "Se3KeDlkWDJ1",
   "metadata": {
    "id": "Se3KeDlkWDJ1"
   },
   "source": [
    "### **<span style=\"color:blue;\"> Data Cleaning</span>** "
   ]
  },
  {
   "cell_type": "code",
   "execution_count": 9,
   "id": "3LFATCDRWUvP",
   "metadata": {
    "id": "3LFATCDRWUvP"
   },
   "outputs": [],
   "source": [
    "cleaned_data = data = data.copy(deep=True)"
   ]
  },
  {
   "cell_type": "code",
   "execution_count": 10,
   "id": "oi72LvCxWZ8-",
   "metadata": {
    "colab": {
     "base_uri": "https://localhost:8080/"
    },
    "id": "oi72LvCxWZ8-",
    "outputId": "20faf72e-12de-494b-d677-80e25a865470"
   },
   "outputs": [
    {
     "data": {
      "text/plain": [
       "(75757, 59)"
      ]
     },
     "execution_count": 10,
     "metadata": {},
     "output_type": "execute_result"
    }
   ],
   "source": [
    "# Drop all the columns which contain more than 50% of missing values  \n",
    "perc = 50.0\n",
    "min_count =  int(((100-perc)/100)*cleaned_data.shape[0] + 1)\n",
    "cleaned_data = cleaned_data.dropna( axis=1, thresh=min_count)\n",
    "cleaned_data.shape"
   ]
  },
  {
   "cell_type": "code",
   "execution_count": 11,
   "id": "vpI7VN5DWheN",
   "metadata": {
    "colab": {
     "base_uri": "https://localhost:8080/"
    },
    "id": "vpI7VN5DWheN",
    "outputId": "b2330222-124d-47e3-d5a7-71db0da37ece"
   },
   "outputs": [
    {
     "data": {
      "text/plain": [
       "(73920, 59)"
      ]
     },
     "execution_count": 11,
     "metadata": {},
     "output_type": "execute_result"
    }
   ],
   "source": [
    "# Drop all the raws which contain missing values for the attribute \"building_age\"\n",
    "cleaned_data = cleaned_data.dropna(subset=['building_age'])\n",
    "cleaned_data.shape"
   ]
  },
  {
   "cell_type": "code",
   "execution_count": 12,
   "id": "RequLIV4Wscd",
   "metadata": {
    "colab": {
     "base_uri": "https://localhost:8080/"
    },
    "id": "RequLIV4Wscd",
    "outputId": "2b848236-0632-4bc7-aed6-c2d525517556"
   },
   "outputs": [
    {
     "data": {
      "text/plain": [
       "(73920, 59)"
      ]
     },
     "execution_count": 12,
     "metadata": {},
     "output_type": "execute_result"
    }
   ],
   "source": [
    "# Replace all the missing values in \"energy_star_rating\" by \"0\"\n",
    "cleaned_data['energy_star_rating'] = cleaned_data['energy_star_rating'].fillna(0)\n",
    "cleaned_data.shape"
   ]
  },
  {
   "cell_type": "code",
   "execution_count": 13,
   "id": "0fc99a16",
   "metadata": {
    "id": "0fc99a16"
   },
   "outputs": [],
   "source": [
    "cleaned_data['year_factor'] = cleaned_data['year_factor'].astype(str)         # Transform integer to string"
   ]
  },
  {
   "cell_type": "code",
   "execution_count": 14,
   "id": "dTKghETrXRa2",
   "metadata": {
    "id": "dTKghETrXRa2"
   },
   "outputs": [],
   "source": [
    "#cleaned_data.head"
   ]
  },
  {
   "cell_type": "markdown",
   "id": "nZK8avjwoRkW",
   "metadata": {
    "id": "nZK8avjwoRkW"
   },
   "source": [
    "### **<span style=\"color:blue;\"> Prepare the Data for Machine Learning Algorithms</span>** "
   ]
  },
  {
   "cell_type": "code",
   "execution_count": 15,
   "id": "FlQPrx4zkMKH",
   "metadata": {
    "id": "FlQPrx4zkMKH"
   },
   "outputs": [],
   "source": [
    "X = cleaned_data.drop(\"site_eui\", axis = 1)\n",
    "y = cleaned_data['site_eui']"
   ]
  },
  {
   "cell_type": "code",
   "execution_count": 16,
   "id": "n1WZCZ9NvEIp",
   "metadata": {
    "id": "n1WZCZ9NvEIp"
   },
   "outputs": [],
   "source": [
    "cols = X.columns"
   ]
  },
  {
   "cell_type": "code",
   "execution_count": 17,
   "id": "peBmukwZvINn",
   "metadata": {
    "colab": {
     "base_uri": "https://localhost:8080/"
    },
    "id": "peBmukwZvINn",
    "outputId": "dabfd7bb-d4d3-4390-d130-802bf669642c"
   },
   "outputs": [
    {
     "data": {
      "text/plain": [
       "Index(['floor_area', 'energy_star_rating', 'elevation', 'january_min_temp',\n",
       "       'january_avg_temp', 'january_max_temp', 'february_min_temp',\n",
       "       'february_avg_temp', 'february_max_temp', 'march_min_temp',\n",
       "       'march_avg_temp', 'march_max_temp', 'april_min_temp', 'april_avg_temp',\n",
       "       'april_max_temp', 'may_min_temp', 'may_avg_temp', 'may_max_temp',\n",
       "       'june_min_temp', 'june_avg_temp', 'june_max_temp', 'july_min_temp',\n",
       "       'july_avg_temp', 'july_max_temp', 'august_min_temp', 'august_avg_temp',\n",
       "       'august_max_temp', 'september_min_temp', 'september_avg_temp',\n",
       "       'september_max_temp', 'october_min_temp', 'october_avg_temp',\n",
       "       'october_max_temp', 'november_min_temp', 'november_avg_temp',\n",
       "       'november_max_temp', 'december_min_temp', 'december_avg_temp',\n",
       "       'december_max_temp', 'cooling_degree_days', 'heating_degree_days',\n",
       "       'precipitation_inches', 'snowfall_inches', 'snowdepth_inches',\n",
       "       'avg_temp', 'days_below_30F', 'days_below_20F', 'days_below_10F',\n",
       "       'days_below_0F', 'days_above_80F', 'days_above_90F', 'days_above_100F',\n",
       "       'days_above_110F', 'building_age'],\n",
       "      dtype='object')"
      ]
     },
     "execution_count": 17,
     "metadata": {},
     "output_type": "execute_result"
    }
   ],
   "source": [
    "num_cols = X._get_numeric_data().columns\n",
    "num_cols"
   ]
  },
  {
   "cell_type": "code",
   "execution_count": 18,
   "id": "hdMSqd3wvVfx",
   "metadata": {
    "colab": {
     "base_uri": "https://localhost:8080/"
    },
    "id": "hdMSqd3wvVfx",
    "outputId": "edca783d-5056-43f3-eed3-32e5b8d83b07"
   },
   "outputs": [
    {
     "data": {
      "text/plain": [
       "['state_factor', 'year_factor', 'facility_type', 'building_class']"
      ]
     },
     "execution_count": 18,
     "metadata": {},
     "output_type": "execute_result"
    }
   ],
   "source": [
    "cat_cols = list(set(cols) - set(num_cols))\n",
    "cat_cols"
   ]
  },
  {
   "cell_type": "code",
   "execution_count": 19,
   "id": "W-ddYP27zT4P",
   "metadata": {
    "colab": {
     "base_uri": "https://localhost:8080/"
    },
    "id": "W-ddYP27zT4P",
    "outputId": "cac61145-7612-4cd8-ab6c-55dfdf268fb1"
   },
   "outputs": [
    {
     "data": {
      "text/plain": [
       "[1, 0, 3, 2]"
      ]
     },
     "execution_count": 19,
     "metadata": {},
     "output_type": "execute_result"
    }
   ],
   "source": [
    "#get column index for each column in list\n",
    "[X.columns.get_loc(c) for c in cat_cols if c in X]"
   ]
  },
  {
   "cell_type": "markdown",
   "id": "nKI-ju0qoY3W",
   "metadata": {
    "id": "nKI-ju0qoY3W"
   },
   "source": [
    "### **Encoding categorical data**"
   ]
  },
  {
   "cell_type": "code",
   "execution_count": 20,
   "id": "Mp3jEGc3gmPm",
   "metadata": {
    "id": "Mp3jEGc3gmPm"
   },
   "outputs": [],
   "source": [
    "from sklearn.compose import ColumnTransformer\n",
    "from sklearn.preprocessing import OrdinalEncoder\n",
    "\n",
    "enc = OrdinalEncoder()\n",
    "X[cat_cols] = enc.fit_transform(X[cat_cols] )"
   ]
  },
  {
   "cell_type": "code",
   "execution_count": 21,
   "id": "rfRym0hsot4v",
   "metadata": {
    "colab": {
     "base_uri": "https://localhost:8080/",
     "height": 455
    },
    "id": "rfRym0hsot4v",
    "outputId": "01fdf785-6cc2-4c61-ec54-69de93f0c2dc"
   },
   "outputs": [
    {
     "data": {
      "text/html": [
       "<div>\n",
       "<style scoped>\n",
       "    .dataframe tbody tr th:only-of-type {\n",
       "        vertical-align: middle;\n",
       "    }\n",
       "\n",
       "    .dataframe tbody tr th {\n",
       "        vertical-align: top;\n",
       "    }\n",
       "\n",
       "    .dataframe thead th {\n",
       "        text-align: right;\n",
       "    }\n",
       "</style>\n",
       "<table border=\"1\" class=\"dataframe\">\n",
       "  <thead>\n",
       "    <tr style=\"text-align: right;\">\n",
       "      <th></th>\n",
       "      <th>state_factor</th>\n",
       "      <th>year_factor</th>\n",
       "      <th>facility_type</th>\n",
       "      <th>building_class</th>\n",
       "    </tr>\n",
       "    <tr>\n",
       "      <th>id</th>\n",
       "      <th></th>\n",
       "      <th></th>\n",
       "      <th></th>\n",
       "      <th></th>\n",
       "    </tr>\n",
       "  </thead>\n",
       "  <tbody>\n",
       "    <tr>\n",
       "      <th>0</th>\n",
       "      <td>0.0</td>\n",
       "      <td>0.0</td>\n",
       "      <td>13.0</td>\n",
       "      <td>0.0</td>\n",
       "    </tr>\n",
       "    <tr>\n",
       "      <th>1</th>\n",
       "      <td>0.0</td>\n",
       "      <td>0.0</td>\n",
       "      <td>55.0</td>\n",
       "      <td>0.0</td>\n",
       "    </tr>\n",
       "    <tr>\n",
       "      <th>2</th>\n",
       "      <td>0.0</td>\n",
       "      <td>0.0</td>\n",
       "      <td>48.0</td>\n",
       "      <td>0.0</td>\n",
       "    </tr>\n",
       "    <tr>\n",
       "      <th>3</th>\n",
       "      <td>0.0</td>\n",
       "      <td>0.0</td>\n",
       "      <td>6.0</td>\n",
       "      <td>0.0</td>\n",
       "    </tr>\n",
       "    <tr>\n",
       "      <th>4</th>\n",
       "      <td>0.0</td>\n",
       "      <td>0.0</td>\n",
       "      <td>56.0</td>\n",
       "      <td>0.0</td>\n",
       "    </tr>\n",
       "    <tr>\n",
       "      <th>...</th>\n",
       "      <td>...</td>\n",
       "      <td>...</td>\n",
       "      <td>...</td>\n",
       "      <td>...</td>\n",
       "    </tr>\n",
       "    <tr>\n",
       "      <th>75752</th>\n",
       "      <td>2.0</td>\n",
       "      <td>5.0</td>\n",
       "      <td>32.0</td>\n",
       "      <td>0.0</td>\n",
       "    </tr>\n",
       "    <tr>\n",
       "      <th>75753</th>\n",
       "      <td>2.0</td>\n",
       "      <td>5.0</td>\n",
       "      <td>1.0</td>\n",
       "      <td>1.0</td>\n",
       "    </tr>\n",
       "    <tr>\n",
       "      <th>75754</th>\n",
       "      <td>2.0</td>\n",
       "      <td>5.0</td>\n",
       "      <td>2.0</td>\n",
       "      <td>0.0</td>\n",
       "    </tr>\n",
       "    <tr>\n",
       "      <th>75755</th>\n",
       "      <td>2.0</td>\n",
       "      <td>5.0</td>\n",
       "      <td>2.0</td>\n",
       "      <td>0.0</td>\n",
       "    </tr>\n",
       "    <tr>\n",
       "      <th>75756</th>\n",
       "      <td>2.0</td>\n",
       "      <td>5.0</td>\n",
       "      <td>0.0</td>\n",
       "      <td>1.0</td>\n",
       "    </tr>\n",
       "  </tbody>\n",
       "</table>\n",
       "<p>73920 rows × 4 columns</p>\n",
       "</div>"
      ],
      "text/plain": [
       "       state_factor  year_factor  facility_type  building_class\n",
       "id                                                             \n",
       "0               0.0          0.0           13.0             0.0\n",
       "1               0.0          0.0           55.0             0.0\n",
       "2               0.0          0.0           48.0             0.0\n",
       "3               0.0          0.0            6.0             0.0\n",
       "4               0.0          0.0           56.0             0.0\n",
       "...             ...          ...            ...             ...\n",
       "75752           2.0          5.0           32.0             0.0\n",
       "75753           2.0          5.0            1.0             1.0\n",
       "75754           2.0          5.0            2.0             0.0\n",
       "75755           2.0          5.0            2.0             0.0\n",
       "75756           2.0          5.0            0.0             1.0\n",
       "\n",
       "[73920 rows x 4 columns]"
      ]
     },
     "execution_count": 21,
     "metadata": {},
     "output_type": "execute_result"
    }
   ],
   "source": [
    "X[cat_cols]"
   ]
  },
  {
   "cell_type": "markdown",
   "id": "I8eIcm80t2d1",
   "metadata": {
    "id": "I8eIcm80t2d1"
   },
   "source": [
    "### **Scaling Numerica data**"
   ]
  },
  {
   "cell_type": "code",
   "execution_count": 22,
   "id": "Dyp6PdfJsI0V",
   "metadata": {
    "id": "Dyp6PdfJsI0V"
   },
   "outputs": [],
   "source": [
    "from sklearn.preprocessing import StandardScaler\n",
    "from sklearn.preprocessing import MinMaxScaler\n",
    "sc = StandardScaler()\n",
    "mmsc = MinMaxScaler()\n",
    "X[num_cols] = mmsc.fit_transform(X[num_cols] )"
   ]
  },
  {
   "cell_type": "code",
   "execution_count": 23,
   "id": "M00Vt6fAmd6A",
   "metadata": {
    "colab": {
     "base_uri": "https://localhost:8080/",
     "height": 519
    },
    "id": "M00Vt6fAmd6A",
    "outputId": "7e8f1e32-3f6f-4f2d-d64d-223fdb217199"
   },
   "outputs": [
    {
     "data": {
      "text/html": [
       "<div>\n",
       "<style scoped>\n",
       "    .dataframe tbody tr th:only-of-type {\n",
       "        vertical-align: middle;\n",
       "    }\n",
       "\n",
       "    .dataframe tbody tr th {\n",
       "        vertical-align: top;\n",
       "    }\n",
       "\n",
       "    .dataframe thead th {\n",
       "        text-align: right;\n",
       "    }\n",
       "</style>\n",
       "<table border=\"1\" class=\"dataframe\">\n",
       "  <thead>\n",
       "    <tr style=\"text-align: right;\">\n",
       "      <th></th>\n",
       "      <th>floor_area</th>\n",
       "      <th>energy_star_rating</th>\n",
       "      <th>elevation</th>\n",
       "      <th>january_min_temp</th>\n",
       "      <th>january_avg_temp</th>\n",
       "      <th>january_max_temp</th>\n",
       "      <th>february_min_temp</th>\n",
       "      <th>february_avg_temp</th>\n",
       "      <th>february_max_temp</th>\n",
       "      <th>march_min_temp</th>\n",
       "      <th>...</th>\n",
       "      <th>avg_temp</th>\n",
       "      <th>days_below_30F</th>\n",
       "      <th>days_below_20F</th>\n",
       "      <th>days_below_10F</th>\n",
       "      <th>days_below_0F</th>\n",
       "      <th>days_above_80F</th>\n",
       "      <th>days_above_90F</th>\n",
       "      <th>days_above_100F</th>\n",
       "      <th>days_above_110F</th>\n",
       "      <th>building_age</th>\n",
       "    </tr>\n",
       "    <tr>\n",
       "      <th>id</th>\n",
       "      <th></th>\n",
       "      <th></th>\n",
       "      <th></th>\n",
       "      <th></th>\n",
       "      <th></th>\n",
       "      <th></th>\n",
       "      <th></th>\n",
       "      <th></th>\n",
       "      <th></th>\n",
       "      <th></th>\n",
       "      <th></th>\n",
       "      <th></th>\n",
       "      <th></th>\n",
       "      <th></th>\n",
       "      <th></th>\n",
       "      <th></th>\n",
       "      <th></th>\n",
       "      <th></th>\n",
       "      <th></th>\n",
       "      <th></th>\n",
       "      <th></th>\n",
       "    </tr>\n",
       "  </thead>\n",
       "  <tbody>\n",
       "    <tr>\n",
       "      <th>0</th>\n",
       "      <td>0.009359</td>\n",
       "      <td>0.11</td>\n",
       "      <td>0.001281</td>\n",
       "      <td>0.916667</td>\n",
       "      <td>0.896213</td>\n",
       "      <td>0.742857</td>\n",
       "      <td>0.872727</td>\n",
       "      <td>0.854480</td>\n",
       "      <td>0.875</td>\n",
       "      <td>0.875000</td>\n",
       "      <td>...</td>\n",
       "      <td>0.659752</td>\n",
       "      <td>0.000000</td>\n",
       "      <td>0.000000</td>\n",
       "      <td>0.0</td>\n",
       "      <td>0.0</td>\n",
       "      <td>0.061538</td>\n",
       "      <td>0.000000</td>\n",
       "      <td>0.0</td>\n",
       "      <td>0.0</td>\n",
       "      <td>0.036228</td>\n",
       "    </tr>\n",
       "    <tr>\n",
       "      <th>1</th>\n",
       "      <td>0.042855</td>\n",
       "      <td>0.45</td>\n",
       "      <td>0.000000</td>\n",
       "      <td>0.916667</td>\n",
       "      <td>0.896213</td>\n",
       "      <td>0.742857</td>\n",
       "      <td>0.872727</td>\n",
       "      <td>0.854480</td>\n",
       "      <td>0.875</td>\n",
       "      <td>0.875000</td>\n",
       "      <td>...</td>\n",
       "      <td>0.659752</td>\n",
       "      <td>0.000000</td>\n",
       "      <td>0.000000</td>\n",
       "      <td>0.0</td>\n",
       "      <td>0.0</td>\n",
       "      <td>0.061538</td>\n",
       "      <td>0.000000</td>\n",
       "      <td>0.0</td>\n",
       "      <td>0.0</td>\n",
       "      <td>0.029777</td>\n",
       "    </tr>\n",
       "    <tr>\n",
       "      <th>2</th>\n",
       "      <td>0.043804</td>\n",
       "      <td>0.97</td>\n",
       "      <td>0.000000</td>\n",
       "      <td>0.916667</td>\n",
       "      <td>0.896213</td>\n",
       "      <td>0.742857</td>\n",
       "      <td>0.872727</td>\n",
       "      <td>0.854480</td>\n",
       "      <td>0.875</td>\n",
       "      <td>0.875000</td>\n",
       "      <td>...</td>\n",
       "      <td>0.659752</td>\n",
       "      <td>0.000000</td>\n",
       "      <td>0.000000</td>\n",
       "      <td>0.0</td>\n",
       "      <td>0.0</td>\n",
       "      <td>0.061538</td>\n",
       "      <td>0.000000</td>\n",
       "      <td>0.0</td>\n",
       "      <td>0.0</td>\n",
       "      <td>0.031762</td>\n",
       "    </tr>\n",
       "    <tr>\n",
       "      <th>3</th>\n",
       "      <td>0.008427</td>\n",
       "      <td>0.46</td>\n",
       "      <td>0.000000</td>\n",
       "      <td>0.916667</td>\n",
       "      <td>0.896213</td>\n",
       "      <td>0.742857</td>\n",
       "      <td>0.872727</td>\n",
       "      <td>0.854480</td>\n",
       "      <td>0.875</td>\n",
       "      <td>0.875000</td>\n",
       "      <td>...</td>\n",
       "      <td>0.659752</td>\n",
       "      <td>0.000000</td>\n",
       "      <td>0.000000</td>\n",
       "      <td>0.0</td>\n",
       "      <td>0.0</td>\n",
       "      <td>0.061538</td>\n",
       "      <td>0.000000</td>\n",
       "      <td>0.0</td>\n",
       "      <td>0.0</td>\n",
       "      <td>0.017370</td>\n",
       "    </tr>\n",
       "    <tr>\n",
       "      <th>4</th>\n",
       "      <td>0.010108</td>\n",
       "      <td>1.00</td>\n",
       "      <td>0.001281</td>\n",
       "      <td>0.916667</td>\n",
       "      <td>0.896213</td>\n",
       "      <td>0.742857</td>\n",
       "      <td>0.872727</td>\n",
       "      <td>0.854480</td>\n",
       "      <td>0.875</td>\n",
       "      <td>0.875000</td>\n",
       "      <td>...</td>\n",
       "      <td>0.659752</td>\n",
       "      <td>0.000000</td>\n",
       "      <td>0.000000</td>\n",
       "      <td>0.0</td>\n",
       "      <td>0.0</td>\n",
       "      <td>0.061538</td>\n",
       "      <td>0.000000</td>\n",
       "      <td>0.0</td>\n",
       "      <td>0.0</td>\n",
       "      <td>0.014888</td>\n",
       "    </tr>\n",
       "    <tr>\n",
       "      <th>...</th>\n",
       "      <td>...</td>\n",
       "      <td>...</td>\n",
       "      <td>...</td>\n",
       "      <td>...</td>\n",
       "      <td>...</td>\n",
       "      <td>...</td>\n",
       "      <td>...</td>\n",
       "      <td>...</td>\n",
       "      <td>...</td>\n",
       "      <td>...</td>\n",
       "      <td>...</td>\n",
       "      <td>...</td>\n",
       "      <td>...</td>\n",
       "      <td>...</td>\n",
       "      <td>...</td>\n",
       "      <td>...</td>\n",
       "      <td>...</td>\n",
       "      <td>...</td>\n",
       "      <td>...</td>\n",
       "      <td>...</td>\n",
       "      <td>...</td>\n",
       "    </tr>\n",
       "    <tr>\n",
       "      <th>75752</th>\n",
       "      <td>0.002930</td>\n",
       "      <td>0.08</td>\n",
       "      <td>0.074280</td>\n",
       "      <td>0.783333</td>\n",
       "      <td>0.737072</td>\n",
       "      <td>0.400000</td>\n",
       "      <td>0.854545</td>\n",
       "      <td>0.787729</td>\n",
       "      <td>0.650</td>\n",
       "      <td>0.785714</td>\n",
       "      <td>...</td>\n",
       "      <td>0.563118</td>\n",
       "      <td>0.043796</td>\n",
       "      <td>0.000000</td>\n",
       "      <td>0.0</td>\n",
       "      <td>0.0</td>\n",
       "      <td>0.146154</td>\n",
       "      <td>0.057692</td>\n",
       "      <td>0.0</td>\n",
       "      <td>0.0</td>\n",
       "      <td>0.009926</td>\n",
       "    </tr>\n",
       "    <tr>\n",
       "      <th>75753</th>\n",
       "      <td>0.006091</td>\n",
       "      <td>0.98</td>\n",
       "      <td>0.074280</td>\n",
       "      <td>0.783333</td>\n",
       "      <td>0.737072</td>\n",
       "      <td>0.400000</td>\n",
       "      <td>0.854545</td>\n",
       "      <td>0.787729</td>\n",
       "      <td>0.650</td>\n",
       "      <td>0.785714</td>\n",
       "      <td>...</td>\n",
       "      <td>0.563118</td>\n",
       "      <td>0.043796</td>\n",
       "      <td>0.000000</td>\n",
       "      <td>0.0</td>\n",
       "      <td>0.0</td>\n",
       "      <td>0.146154</td>\n",
       "      <td>0.057692</td>\n",
       "      <td>0.0</td>\n",
       "      <td>0.0</td>\n",
       "      <td>0.052109</td>\n",
       "    </tr>\n",
       "    <tr>\n",
       "      <th>75754</th>\n",
       "      <td>0.004136</td>\n",
       "      <td>0.00</td>\n",
       "      <td>0.074280</td>\n",
       "      <td>0.750000</td>\n",
       "      <td>0.582666</td>\n",
       "      <td>0.171429</td>\n",
       "      <td>0.781818</td>\n",
       "      <td>0.649635</td>\n",
       "      <td>0.500</td>\n",
       "      <td>0.678571</td>\n",
       "      <td>...</td>\n",
       "      <td>0.179965</td>\n",
       "      <td>0.189781</td>\n",
       "      <td>0.021505</td>\n",
       "      <td>0.0</td>\n",
       "      <td>0.0</td>\n",
       "      <td>0.000000</td>\n",
       "      <td>0.000000</td>\n",
       "      <td>0.0</td>\n",
       "      <td>0.0</td>\n",
       "      <td>0.048635</td>\n",
       "    </tr>\n",
       "    <tr>\n",
       "      <th>75755</th>\n",
       "      <td>0.008151</td>\n",
       "      <td>0.00</td>\n",
       "      <td>0.074280</td>\n",
       "      <td>0.750000</td>\n",
       "      <td>0.582666</td>\n",
       "      <td>0.171429</td>\n",
       "      <td>0.781818</td>\n",
       "      <td>0.649635</td>\n",
       "      <td>0.500</td>\n",
       "      <td>0.678571</td>\n",
       "      <td>...</td>\n",
       "      <td>0.179965</td>\n",
       "      <td>0.189781</td>\n",
       "      <td>0.021505</td>\n",
       "      <td>0.0</td>\n",
       "      <td>0.0</td>\n",
       "      <td>0.000000</td>\n",
       "      <td>0.000000</td>\n",
       "      <td>0.0</td>\n",
       "      <td>0.0</td>\n",
       "      <td>0.001489</td>\n",
       "    </tr>\n",
       "    <tr>\n",
       "      <th>75756</th>\n",
       "      <td>0.003478</td>\n",
       "      <td>0.51</td>\n",
       "      <td>0.074280</td>\n",
       "      <td>0.766667</td>\n",
       "      <td>0.589949</td>\n",
       "      <td>0.257143</td>\n",
       "      <td>0.763636</td>\n",
       "      <td>0.661866</td>\n",
       "      <td>0.550</td>\n",
       "      <td>0.696429</td>\n",
       "      <td>...</td>\n",
       "      <td>0.244361</td>\n",
       "      <td>0.124088</td>\n",
       "      <td>0.010753</td>\n",
       "      <td>0.0</td>\n",
       "      <td>0.0</td>\n",
       "      <td>0.076923</td>\n",
       "      <td>0.000000</td>\n",
       "      <td>0.0</td>\n",
       "      <td>0.0</td>\n",
       "      <td>0.020347</td>\n",
       "    </tr>\n",
       "  </tbody>\n",
       "</table>\n",
       "<p>73920 rows × 54 columns</p>\n",
       "</div>"
      ],
      "text/plain": [
       "       floor_area  energy_star_rating  elevation  january_min_temp  \\\n",
       "id                                                                   \n",
       "0        0.009359                0.11   0.001281          0.916667   \n",
       "1        0.042855                0.45   0.000000          0.916667   \n",
       "2        0.043804                0.97   0.000000          0.916667   \n",
       "3        0.008427                0.46   0.000000          0.916667   \n",
       "4        0.010108                1.00   0.001281          0.916667   \n",
       "...           ...                 ...        ...               ...   \n",
       "75752    0.002930                0.08   0.074280          0.783333   \n",
       "75753    0.006091                0.98   0.074280          0.783333   \n",
       "75754    0.004136                0.00   0.074280          0.750000   \n",
       "75755    0.008151                0.00   0.074280          0.750000   \n",
       "75756    0.003478                0.51   0.074280          0.766667   \n",
       "\n",
       "       january_avg_temp  january_max_temp  february_min_temp  \\\n",
       "id                                                             \n",
       "0              0.896213          0.742857           0.872727   \n",
       "1              0.896213          0.742857           0.872727   \n",
       "2              0.896213          0.742857           0.872727   \n",
       "3              0.896213          0.742857           0.872727   \n",
       "4              0.896213          0.742857           0.872727   \n",
       "...                 ...               ...                ...   \n",
       "75752          0.737072          0.400000           0.854545   \n",
       "75753          0.737072          0.400000           0.854545   \n",
       "75754          0.582666          0.171429           0.781818   \n",
       "75755          0.582666          0.171429           0.781818   \n",
       "75756          0.589949          0.257143           0.763636   \n",
       "\n",
       "       february_avg_temp  february_max_temp  march_min_temp  ...  avg_temp  \\\n",
       "id                                                           ...             \n",
       "0               0.854480              0.875        0.875000  ...  0.659752   \n",
       "1               0.854480              0.875        0.875000  ...  0.659752   \n",
       "2               0.854480              0.875        0.875000  ...  0.659752   \n",
       "3               0.854480              0.875        0.875000  ...  0.659752   \n",
       "4               0.854480              0.875        0.875000  ...  0.659752   \n",
       "...                  ...                ...             ...  ...       ...   \n",
       "75752           0.787729              0.650        0.785714  ...  0.563118   \n",
       "75753           0.787729              0.650        0.785714  ...  0.563118   \n",
       "75754           0.649635              0.500        0.678571  ...  0.179965   \n",
       "75755           0.649635              0.500        0.678571  ...  0.179965   \n",
       "75756           0.661866              0.550        0.696429  ...  0.244361   \n",
       "\n",
       "       days_below_30F  days_below_20F  days_below_10F  days_below_0F  \\\n",
       "id                                                                     \n",
       "0            0.000000        0.000000             0.0            0.0   \n",
       "1            0.000000        0.000000             0.0            0.0   \n",
       "2            0.000000        0.000000             0.0            0.0   \n",
       "3            0.000000        0.000000             0.0            0.0   \n",
       "4            0.000000        0.000000             0.0            0.0   \n",
       "...               ...             ...             ...            ...   \n",
       "75752        0.043796        0.000000             0.0            0.0   \n",
       "75753        0.043796        0.000000             0.0            0.0   \n",
       "75754        0.189781        0.021505             0.0            0.0   \n",
       "75755        0.189781        0.021505             0.0            0.0   \n",
       "75756        0.124088        0.010753             0.0            0.0   \n",
       "\n",
       "       days_above_80F  days_above_90F  days_above_100F  days_above_110F  \\\n",
       "id                                                                        \n",
       "0            0.061538        0.000000              0.0              0.0   \n",
       "1            0.061538        0.000000              0.0              0.0   \n",
       "2            0.061538        0.000000              0.0              0.0   \n",
       "3            0.061538        0.000000              0.0              0.0   \n",
       "4            0.061538        0.000000              0.0              0.0   \n",
       "...               ...             ...              ...              ...   \n",
       "75752        0.146154        0.057692              0.0              0.0   \n",
       "75753        0.146154        0.057692              0.0              0.0   \n",
       "75754        0.000000        0.000000              0.0              0.0   \n",
       "75755        0.000000        0.000000              0.0              0.0   \n",
       "75756        0.076923        0.000000              0.0              0.0   \n",
       "\n",
       "       building_age  \n",
       "id                   \n",
       "0          0.036228  \n",
       "1          0.029777  \n",
       "2          0.031762  \n",
       "3          0.017370  \n",
       "4          0.014888  \n",
       "...             ...  \n",
       "75752      0.009926  \n",
       "75753      0.052109  \n",
       "75754      0.048635  \n",
       "75755      0.001489  \n",
       "75756      0.020347  \n",
       "\n",
       "[73920 rows x 54 columns]"
      ]
     },
     "execution_count": 23,
     "metadata": {},
     "output_type": "execute_result"
    }
   ],
   "source": [
    "X[num_cols]"
   ]
  },
  {
   "cell_type": "code",
   "execution_count": 24,
   "id": "pFAfLQbopTMG",
   "metadata": {
    "colab": {
     "base_uri": "https://localhost:8080/",
     "height": 519
    },
    "id": "pFAfLQbopTMG",
    "outputId": "37075ca2-67ec-4c87-9599-e8f2274cba7b"
   },
   "outputs": [
    {
     "data": {
      "text/html": [
       "<div>\n",
       "<style scoped>\n",
       "    .dataframe tbody tr th:only-of-type {\n",
       "        vertical-align: middle;\n",
       "    }\n",
       "\n",
       "    .dataframe tbody tr th {\n",
       "        vertical-align: top;\n",
       "    }\n",
       "\n",
       "    .dataframe thead th {\n",
       "        text-align: right;\n",
       "    }\n",
       "</style>\n",
       "<table border=\"1\" class=\"dataframe\">\n",
       "  <thead>\n",
       "    <tr style=\"text-align: right;\">\n",
       "      <th></th>\n",
       "      <th>state_factor</th>\n",
       "      <th>year_factor</th>\n",
       "      <th>facility_type</th>\n",
       "      <th>building_class</th>\n",
       "      <th>floor_area</th>\n",
       "      <th>energy_star_rating</th>\n",
       "      <th>elevation</th>\n",
       "      <th>january_min_temp</th>\n",
       "      <th>january_avg_temp</th>\n",
       "      <th>january_max_temp</th>\n",
       "      <th>...</th>\n",
       "      <th>avg_temp</th>\n",
       "      <th>days_below_30F</th>\n",
       "      <th>days_below_20F</th>\n",
       "      <th>days_below_10F</th>\n",
       "      <th>days_below_0F</th>\n",
       "      <th>days_above_80F</th>\n",
       "      <th>days_above_90F</th>\n",
       "      <th>days_above_100F</th>\n",
       "      <th>days_above_110F</th>\n",
       "      <th>building_age</th>\n",
       "    </tr>\n",
       "    <tr>\n",
       "      <th>id</th>\n",
       "      <th></th>\n",
       "      <th></th>\n",
       "      <th></th>\n",
       "      <th></th>\n",
       "      <th></th>\n",
       "      <th></th>\n",
       "      <th></th>\n",
       "      <th></th>\n",
       "      <th></th>\n",
       "      <th></th>\n",
       "      <th></th>\n",
       "      <th></th>\n",
       "      <th></th>\n",
       "      <th></th>\n",
       "      <th></th>\n",
       "      <th></th>\n",
       "      <th></th>\n",
       "      <th></th>\n",
       "      <th></th>\n",
       "      <th></th>\n",
       "      <th></th>\n",
       "    </tr>\n",
       "  </thead>\n",
       "  <tbody>\n",
       "    <tr>\n",
       "      <th>0</th>\n",
       "      <td>0.0</td>\n",
       "      <td>0.0</td>\n",
       "      <td>13.0</td>\n",
       "      <td>0.0</td>\n",
       "      <td>0.009359</td>\n",
       "      <td>0.11</td>\n",
       "      <td>0.001281</td>\n",
       "      <td>0.916667</td>\n",
       "      <td>0.896213</td>\n",
       "      <td>0.742857</td>\n",
       "      <td>...</td>\n",
       "      <td>0.659752</td>\n",
       "      <td>0.000000</td>\n",
       "      <td>0.000000</td>\n",
       "      <td>0.0</td>\n",
       "      <td>0.0</td>\n",
       "      <td>0.061538</td>\n",
       "      <td>0.000000</td>\n",
       "      <td>0.0</td>\n",
       "      <td>0.0</td>\n",
       "      <td>0.036228</td>\n",
       "    </tr>\n",
       "    <tr>\n",
       "      <th>1</th>\n",
       "      <td>0.0</td>\n",
       "      <td>0.0</td>\n",
       "      <td>55.0</td>\n",
       "      <td>0.0</td>\n",
       "      <td>0.042855</td>\n",
       "      <td>0.45</td>\n",
       "      <td>0.000000</td>\n",
       "      <td>0.916667</td>\n",
       "      <td>0.896213</td>\n",
       "      <td>0.742857</td>\n",
       "      <td>...</td>\n",
       "      <td>0.659752</td>\n",
       "      <td>0.000000</td>\n",
       "      <td>0.000000</td>\n",
       "      <td>0.0</td>\n",
       "      <td>0.0</td>\n",
       "      <td>0.061538</td>\n",
       "      <td>0.000000</td>\n",
       "      <td>0.0</td>\n",
       "      <td>0.0</td>\n",
       "      <td>0.029777</td>\n",
       "    </tr>\n",
       "    <tr>\n",
       "      <th>2</th>\n",
       "      <td>0.0</td>\n",
       "      <td>0.0</td>\n",
       "      <td>48.0</td>\n",
       "      <td>0.0</td>\n",
       "      <td>0.043804</td>\n",
       "      <td>0.97</td>\n",
       "      <td>0.000000</td>\n",
       "      <td>0.916667</td>\n",
       "      <td>0.896213</td>\n",
       "      <td>0.742857</td>\n",
       "      <td>...</td>\n",
       "      <td>0.659752</td>\n",
       "      <td>0.000000</td>\n",
       "      <td>0.000000</td>\n",
       "      <td>0.0</td>\n",
       "      <td>0.0</td>\n",
       "      <td>0.061538</td>\n",
       "      <td>0.000000</td>\n",
       "      <td>0.0</td>\n",
       "      <td>0.0</td>\n",
       "      <td>0.031762</td>\n",
       "    </tr>\n",
       "    <tr>\n",
       "      <th>3</th>\n",
       "      <td>0.0</td>\n",
       "      <td>0.0</td>\n",
       "      <td>6.0</td>\n",
       "      <td>0.0</td>\n",
       "      <td>0.008427</td>\n",
       "      <td>0.46</td>\n",
       "      <td>0.000000</td>\n",
       "      <td>0.916667</td>\n",
       "      <td>0.896213</td>\n",
       "      <td>0.742857</td>\n",
       "      <td>...</td>\n",
       "      <td>0.659752</td>\n",
       "      <td>0.000000</td>\n",
       "      <td>0.000000</td>\n",
       "      <td>0.0</td>\n",
       "      <td>0.0</td>\n",
       "      <td>0.061538</td>\n",
       "      <td>0.000000</td>\n",
       "      <td>0.0</td>\n",
       "      <td>0.0</td>\n",
       "      <td>0.017370</td>\n",
       "    </tr>\n",
       "    <tr>\n",
       "      <th>4</th>\n",
       "      <td>0.0</td>\n",
       "      <td>0.0</td>\n",
       "      <td>56.0</td>\n",
       "      <td>0.0</td>\n",
       "      <td>0.010108</td>\n",
       "      <td>1.00</td>\n",
       "      <td>0.001281</td>\n",
       "      <td>0.916667</td>\n",
       "      <td>0.896213</td>\n",
       "      <td>0.742857</td>\n",
       "      <td>...</td>\n",
       "      <td>0.659752</td>\n",
       "      <td>0.000000</td>\n",
       "      <td>0.000000</td>\n",
       "      <td>0.0</td>\n",
       "      <td>0.0</td>\n",
       "      <td>0.061538</td>\n",
       "      <td>0.000000</td>\n",
       "      <td>0.0</td>\n",
       "      <td>0.0</td>\n",
       "      <td>0.014888</td>\n",
       "    </tr>\n",
       "    <tr>\n",
       "      <th>...</th>\n",
       "      <td>...</td>\n",
       "      <td>...</td>\n",
       "      <td>...</td>\n",
       "      <td>...</td>\n",
       "      <td>...</td>\n",
       "      <td>...</td>\n",
       "      <td>...</td>\n",
       "      <td>...</td>\n",
       "      <td>...</td>\n",
       "      <td>...</td>\n",
       "      <td>...</td>\n",
       "      <td>...</td>\n",
       "      <td>...</td>\n",
       "      <td>...</td>\n",
       "      <td>...</td>\n",
       "      <td>...</td>\n",
       "      <td>...</td>\n",
       "      <td>...</td>\n",
       "      <td>...</td>\n",
       "      <td>...</td>\n",
       "      <td>...</td>\n",
       "    </tr>\n",
       "    <tr>\n",
       "      <th>75752</th>\n",
       "      <td>2.0</td>\n",
       "      <td>5.0</td>\n",
       "      <td>32.0</td>\n",
       "      <td>0.0</td>\n",
       "      <td>0.002930</td>\n",
       "      <td>0.08</td>\n",
       "      <td>0.074280</td>\n",
       "      <td>0.783333</td>\n",
       "      <td>0.737072</td>\n",
       "      <td>0.400000</td>\n",
       "      <td>...</td>\n",
       "      <td>0.563118</td>\n",
       "      <td>0.043796</td>\n",
       "      <td>0.000000</td>\n",
       "      <td>0.0</td>\n",
       "      <td>0.0</td>\n",
       "      <td>0.146154</td>\n",
       "      <td>0.057692</td>\n",
       "      <td>0.0</td>\n",
       "      <td>0.0</td>\n",
       "      <td>0.009926</td>\n",
       "    </tr>\n",
       "    <tr>\n",
       "      <th>75753</th>\n",
       "      <td>2.0</td>\n",
       "      <td>5.0</td>\n",
       "      <td>1.0</td>\n",
       "      <td>1.0</td>\n",
       "      <td>0.006091</td>\n",
       "      <td>0.98</td>\n",
       "      <td>0.074280</td>\n",
       "      <td>0.783333</td>\n",
       "      <td>0.737072</td>\n",
       "      <td>0.400000</td>\n",
       "      <td>...</td>\n",
       "      <td>0.563118</td>\n",
       "      <td>0.043796</td>\n",
       "      <td>0.000000</td>\n",
       "      <td>0.0</td>\n",
       "      <td>0.0</td>\n",
       "      <td>0.146154</td>\n",
       "      <td>0.057692</td>\n",
       "      <td>0.0</td>\n",
       "      <td>0.0</td>\n",
       "      <td>0.052109</td>\n",
       "    </tr>\n",
       "    <tr>\n",
       "      <th>75754</th>\n",
       "      <td>2.0</td>\n",
       "      <td>5.0</td>\n",
       "      <td>2.0</td>\n",
       "      <td>0.0</td>\n",
       "      <td>0.004136</td>\n",
       "      <td>0.00</td>\n",
       "      <td>0.074280</td>\n",
       "      <td>0.750000</td>\n",
       "      <td>0.582666</td>\n",
       "      <td>0.171429</td>\n",
       "      <td>...</td>\n",
       "      <td>0.179965</td>\n",
       "      <td>0.189781</td>\n",
       "      <td>0.021505</td>\n",
       "      <td>0.0</td>\n",
       "      <td>0.0</td>\n",
       "      <td>0.000000</td>\n",
       "      <td>0.000000</td>\n",
       "      <td>0.0</td>\n",
       "      <td>0.0</td>\n",
       "      <td>0.048635</td>\n",
       "    </tr>\n",
       "    <tr>\n",
       "      <th>75755</th>\n",
       "      <td>2.0</td>\n",
       "      <td>5.0</td>\n",
       "      <td>2.0</td>\n",
       "      <td>0.0</td>\n",
       "      <td>0.008151</td>\n",
       "      <td>0.00</td>\n",
       "      <td>0.074280</td>\n",
       "      <td>0.750000</td>\n",
       "      <td>0.582666</td>\n",
       "      <td>0.171429</td>\n",
       "      <td>...</td>\n",
       "      <td>0.179965</td>\n",
       "      <td>0.189781</td>\n",
       "      <td>0.021505</td>\n",
       "      <td>0.0</td>\n",
       "      <td>0.0</td>\n",
       "      <td>0.000000</td>\n",
       "      <td>0.000000</td>\n",
       "      <td>0.0</td>\n",
       "      <td>0.0</td>\n",
       "      <td>0.001489</td>\n",
       "    </tr>\n",
       "    <tr>\n",
       "      <th>75756</th>\n",
       "      <td>2.0</td>\n",
       "      <td>5.0</td>\n",
       "      <td>0.0</td>\n",
       "      <td>1.0</td>\n",
       "      <td>0.003478</td>\n",
       "      <td>0.51</td>\n",
       "      <td>0.074280</td>\n",
       "      <td>0.766667</td>\n",
       "      <td>0.589949</td>\n",
       "      <td>0.257143</td>\n",
       "      <td>...</td>\n",
       "      <td>0.244361</td>\n",
       "      <td>0.124088</td>\n",
       "      <td>0.010753</td>\n",
       "      <td>0.0</td>\n",
       "      <td>0.0</td>\n",
       "      <td>0.076923</td>\n",
       "      <td>0.000000</td>\n",
       "      <td>0.0</td>\n",
       "      <td>0.0</td>\n",
       "      <td>0.020347</td>\n",
       "    </tr>\n",
       "  </tbody>\n",
       "</table>\n",
       "<p>73920 rows × 58 columns</p>\n",
       "</div>"
      ],
      "text/plain": [
       "       state_factor  year_factor  facility_type  building_class  floor_area  \\\n",
       "id                                                                            \n",
       "0               0.0          0.0           13.0             0.0    0.009359   \n",
       "1               0.0          0.0           55.0             0.0    0.042855   \n",
       "2               0.0          0.0           48.0             0.0    0.043804   \n",
       "3               0.0          0.0            6.0             0.0    0.008427   \n",
       "4               0.0          0.0           56.0             0.0    0.010108   \n",
       "...             ...          ...            ...             ...         ...   \n",
       "75752           2.0          5.0           32.0             0.0    0.002930   \n",
       "75753           2.0          5.0            1.0             1.0    0.006091   \n",
       "75754           2.0          5.0            2.0             0.0    0.004136   \n",
       "75755           2.0          5.0            2.0             0.0    0.008151   \n",
       "75756           2.0          5.0            0.0             1.0    0.003478   \n",
       "\n",
       "       energy_star_rating  elevation  january_min_temp  january_avg_temp  \\\n",
       "id                                                                         \n",
       "0                    0.11   0.001281          0.916667          0.896213   \n",
       "1                    0.45   0.000000          0.916667          0.896213   \n",
       "2                    0.97   0.000000          0.916667          0.896213   \n",
       "3                    0.46   0.000000          0.916667          0.896213   \n",
       "4                    1.00   0.001281          0.916667          0.896213   \n",
       "...                   ...        ...               ...               ...   \n",
       "75752                0.08   0.074280          0.783333          0.737072   \n",
       "75753                0.98   0.074280          0.783333          0.737072   \n",
       "75754                0.00   0.074280          0.750000          0.582666   \n",
       "75755                0.00   0.074280          0.750000          0.582666   \n",
       "75756                0.51   0.074280          0.766667          0.589949   \n",
       "\n",
       "       january_max_temp  ...  avg_temp  days_below_30F  days_below_20F  \\\n",
       "id                       ...                                             \n",
       "0              0.742857  ...  0.659752        0.000000        0.000000   \n",
       "1              0.742857  ...  0.659752        0.000000        0.000000   \n",
       "2              0.742857  ...  0.659752        0.000000        0.000000   \n",
       "3              0.742857  ...  0.659752        0.000000        0.000000   \n",
       "4              0.742857  ...  0.659752        0.000000        0.000000   \n",
       "...                 ...  ...       ...             ...             ...   \n",
       "75752          0.400000  ...  0.563118        0.043796        0.000000   \n",
       "75753          0.400000  ...  0.563118        0.043796        0.000000   \n",
       "75754          0.171429  ...  0.179965        0.189781        0.021505   \n",
       "75755          0.171429  ...  0.179965        0.189781        0.021505   \n",
       "75756          0.257143  ...  0.244361        0.124088        0.010753   \n",
       "\n",
       "       days_below_10F  days_below_0F  days_above_80F  days_above_90F  \\\n",
       "id                                                                     \n",
       "0                 0.0            0.0        0.061538        0.000000   \n",
       "1                 0.0            0.0        0.061538        0.000000   \n",
       "2                 0.0            0.0        0.061538        0.000000   \n",
       "3                 0.0            0.0        0.061538        0.000000   \n",
       "4                 0.0            0.0        0.061538        0.000000   \n",
       "...               ...            ...             ...             ...   \n",
       "75752             0.0            0.0        0.146154        0.057692   \n",
       "75753             0.0            0.0        0.146154        0.057692   \n",
       "75754             0.0            0.0        0.000000        0.000000   \n",
       "75755             0.0            0.0        0.000000        0.000000   \n",
       "75756             0.0            0.0        0.076923        0.000000   \n",
       "\n",
       "       days_above_100F  days_above_110F  building_age  \n",
       "id                                                     \n",
       "0                  0.0              0.0      0.036228  \n",
       "1                  0.0              0.0      0.029777  \n",
       "2                  0.0              0.0      0.031762  \n",
       "3                  0.0              0.0      0.017370  \n",
       "4                  0.0              0.0      0.014888  \n",
       "...                ...              ...           ...  \n",
       "75752              0.0              0.0      0.009926  \n",
       "75753              0.0              0.0      0.052109  \n",
       "75754              0.0              0.0      0.048635  \n",
       "75755              0.0              0.0      0.001489  \n",
       "75756              0.0              0.0      0.020347  \n",
       "\n",
       "[73920 rows x 58 columns]"
      ]
     },
     "execution_count": 24,
     "metadata": {},
     "output_type": "execute_result"
    }
   ],
   "source": [
    "X = pd.concat([X[cat_cols], X[num_cols]], axis = 1)\n",
    "X"
   ]
  },
  {
   "cell_type": "markdown",
   "id": "DntZ9PZI2j3F",
   "metadata": {
    "id": "DntZ9PZI2j3F"
   },
   "source": [
    "### **Test set split**"
   ]
  },
  {
   "cell_type": "code",
   "execution_count": 25,
   "id": "NOAqYCP9igP0",
   "metadata": {
    "id": "NOAqYCP9igP0"
   },
   "outputs": [],
   "source": [
    "# Splitting the dataset into the Training set and Test set\n",
    "from sklearn.model_selection import train_test_split\n",
    "X_train, X_test, y_train, y_test = train_test_split(X, y, test_size = 0.2, random_state =1)"
   ]
  },
  {
   "cell_type": "markdown",
   "id": "211a4e5f",
   "metadata": {},
   "source": [
    "### Decision Tree Regressor"
   ]
  },
  {
   "cell_type": "code",
   "execution_count": 26,
   "id": "38070d09",
   "metadata": {},
   "outputs": [],
   "source": [
    "from sklearn.tree import DecisionTreeRegressor"
   ]
  },
  {
   "cell_type": "code",
   "execution_count": 27,
   "id": "077dd6a0",
   "metadata": {},
   "outputs": [],
   "source": [
    "tree_reg = DecisionTreeRegressor()"
   ]
  },
  {
   "cell_type": "code",
   "execution_count": 28,
   "id": "8dbe1f1b",
   "metadata": {},
   "outputs": [
    {
     "data": {
      "text/plain": [
       "DecisionTreeRegressor()"
      ]
     },
     "execution_count": 28,
     "metadata": {},
     "output_type": "execute_result"
    }
   ],
   "source": [
    "tree_reg.fit(X=X_train, y=y_train)"
   ]
  },
  {
   "cell_type": "code",
   "execution_count": 29,
   "id": "b5dff839",
   "metadata": {},
   "outputs": [],
   "source": [
    "tree_reg_pred = tree_reg.predict(X_train)"
   ]
  },
  {
   "cell_type": "code",
   "execution_count": 30,
   "id": "1ac5d3bb",
   "metadata": {},
   "outputs": [],
   "source": [
    "from sklearn.metrics import mean_squared_error\n",
    "tree_mse = mean_squared_error(y_train, tree_reg_pred)"
   ]
  },
  {
   "cell_type": "code",
   "execution_count": 31,
   "id": "0d32378f",
   "metadata": {},
   "outputs": [
    {
     "name": "stdout",
     "output_type": "stream",
     "text": [
      "1.4448720943058049\n"
     ]
    }
   ],
   "source": [
    "tree_rmse = np.sqrt(tree_mse)\n",
    "print(tree_rmse)"
   ]
  },
  {
   "cell_type": "code",
   "execution_count": 32,
   "id": "6e2af3ec",
   "metadata": {},
   "outputs": [
    {
     "name": "stdout",
     "output_type": "stream",
     "text": [
      "0.9993899315876839\n"
     ]
    }
   ],
   "source": [
    "from sklearn.metrics import r2_score\n",
    "r2 = r2_score(y_train, tree_reg_pred)\n",
    "print(r2)"
   ]
  },
  {
   "cell_type": "code",
   "execution_count": 33,
   "id": "70ad9050",
   "metadata": {},
   "outputs": [
    {
     "name": "stdout",
     "output_type": "stream",
     "text": [
      "0.10663217451447793\n"
     ]
    }
   ],
   "source": [
    "import sklearn\n",
    "# predict site_eui of X_test\n",
    "y_pred = tree_reg.predict(X_test)\n",
    "r2 = sklearn.metrics.r2_score(y_test, y_pred)\n",
    "print(r2)"
   ]
  },
  {
   "cell_type": "code",
   "execution_count": 34,
   "id": "0a1913cd",
   "metadata": {},
   "outputs": [
    {
     "data": {
      "text/plain": [
       "52.082329878725105"
      ]
     },
     "execution_count": 34,
     "metadata": {},
     "output_type": "execute_result"
    }
   ],
   "source": [
    "# Mean Squared Error\n",
    "RMSE= np.sqrt(np.square(np.subtract(y_test, y_pred)).mean())\n",
    "RMSE"
   ]
  },
  {
   "cell_type": "markdown",
   "id": "2491d8ec",
   "metadata": {},
   "source": [
    "### Hyperparameter Tuning with Grid Search"
   ]
  },
  {
   "cell_type": "code",
   "execution_count": 35,
   "id": "5a5d2804",
   "metadata": {},
   "outputs": [
    {
     "name": "stdout",
     "output_type": "stream",
     "text": [
      "Fitting 3 folds for each of 25 candidates, totalling 75 fits\n"
     ]
    },
    {
     "data": {
      "text/plain": [
       "GridSearchCV(cv=3, estimator=DecisionTreeRegressor(random_state=42), n_jobs=-1,\n",
       "             param_grid={'max_depth': [3, 5, 8, 12, 15],\n",
       "                         'min_samples_leaf': [5, 8, 12, 15, 20]},\n",
       "             scoring='neg_mean_squared_error', verbose=1)"
      ]
     },
     "execution_count": 35,
     "metadata": {},
     "output_type": "execute_result"
    }
   ],
   "source": [
    "# Import RandomForestRegressor\n",
    "from sklearn.model_selection import GridSearchCV\n",
    "from sklearn.metrics import mean_squared_error as MSE\n",
    "\n",
    "# Instantiate RandomForestRegressor\n",
    "dt = DecisionTreeRegressor(random_state = 42)\n",
    "\n",
    "# Creating Parameter grid for GridSearch CV\n",
    "params_dt = {\n",
    "    'max_depth': [3,5,8,12,15],\n",
    "    'min_samples_leaf': [5,8,12,15,20]\n",
    "    #'criterion': [\"entropy\"]\n",
    "}\n",
    "\n",
    "# Instantiate grid_rf\n",
    "grid_dt = GridSearchCV(estimator = dt, # regressor we want to use\n",
    "                       param_grid = params_dt, # Hyperparameter space\n",
    "                       scoring ='neg_mean_squared_error', # MSE will be performance metric\n",
    "                       cv = 3, # #of folds\n",
    "                       verbose = 1,\n",
    "                       n_jobs = -1) # use all cores\n",
    "# fit the model\n",
    "grid_dt.fit(X_train, y_train)"
   ]
  },
  {
   "cell_type": "code",
   "execution_count": 36,
   "id": "6700d89f",
   "metadata": {},
   "outputs": [
    {
     "name": "stdout",
     "output_type": "stream",
     "text": [
      "DecisionTreeRegressor(max_depth=12, min_samples_leaf=5, random_state=42)\n"
     ]
    }
   ],
   "source": [
    "print(grid_dt.best_estimator_)\n",
    "best = grid_dt.best_estimator_"
   ]
  },
  {
   "cell_type": "code",
   "execution_count": 37,
   "id": "07172546",
   "metadata": {},
   "outputs": [
    {
     "name": "stdout",
     "output_type": "stream",
     "text": [
      "0.5114397268403905\n"
     ]
    }
   ],
   "source": [
    "best = grid_dt.best_estimator_\n",
    "import sklearn\n",
    "# predict site_eui of X_test\n",
    "y_pred = best.predict(X_train)\n",
    "r2 = sklearn.metrics.r2_score(y_train, y_pred)\n",
    "print(r2)"
   ]
  },
  {
   "cell_type": "code",
   "execution_count": 38,
   "id": "97b6bd00",
   "metadata": {},
   "outputs": [
    {
     "data": {
      "text/plain": [
       "40.888314533177386"
      ]
     },
     "execution_count": 38,
     "metadata": {},
     "output_type": "execute_result"
    }
   ],
   "source": [
    "# Mean Squared Error\n",
    "RMSE= np.sqrt(np.square(np.subtract(y_train, y_pred)).mean())\n",
    "RMSE"
   ]
  },
  {
   "cell_type": "code",
   "execution_count": 39,
   "id": "6765e3b4",
   "metadata": {},
   "outputs": [
    {
     "name": "stdout",
     "output_type": "stream",
     "text": [
      "0.38353543488324193\n"
     ]
    }
   ],
   "source": [
    "best = grid_dt.best_estimator_\n",
    "import sklearn\n",
    "# predict site_eui of X_test\n",
    "y_pred = best.predict(X_test)\n",
    "r2 = sklearn.metrics.r2_score(y_test, y_pred)\n",
    "print(r2)"
   ]
  },
  {
   "cell_type": "code",
   "execution_count": 40,
   "id": "c6ace185",
   "metadata": {},
   "outputs": [
    {
     "data": {
      "text/plain": [
       "43.26426293263915"
      ]
     },
     "execution_count": 40,
     "metadata": {},
     "output_type": "execute_result"
    }
   ],
   "source": [
    "# Mean Squared Error\n",
    "RMSE= np.sqrt(np.square(np.subtract(y_test, y_pred)).mean())\n",
    "RMSE"
   ]
  },
  {
   "cell_type": "markdown",
   "id": "2e179ae0",
   "metadata": {},
   "source": [
    "### Recursive Feature Elimination"
   ]
  },
  {
   "cell_type": "code",
   "execution_count": 41,
   "id": "bc0588c1",
   "metadata": {},
   "outputs": [
    {
     "data": {
      "text/plain": [
       "RFECV(cv=5,\n",
       "      estimator=DecisionTreeRegressor(max_depth=12, min_samples_leaf=5,\n",
       "                                      random_state=42),\n",
       "      scoring='neg_mean_squared_error')"
      ]
     },
     "execution_count": 41,
     "metadata": {},
     "output_type": "execute_result"
    }
   ],
   "source": [
    "import matplotlib.pyplot as plt\n",
    "from sklearn.feature_selection import RFECV\n",
    "\n",
    "# The \"accuracy\" scoring shows the proportion of correct classifications\n",
    "\n",
    "min_features_to_select = 1  # Minimum number of features to consider\n",
    "rfecv = RFECV(\n",
    "    estimator=best,\n",
    "    step=1,\n",
    "    cv=5,\n",
    "    scoring ='neg_mean_squared_error',\n",
    "    min_features_to_select=min_features_to_select,\n",
    ")\n",
    "rfecv.fit(X_train, y_train)"
   ]
  },
  {
   "cell_type": "code",
   "execution_count": 42,
   "id": "1e433d3e",
   "metadata": {},
   "outputs": [
    {
     "name": "stdout",
     "output_type": "stream",
     "text": [
      "Optimal number of features : 6\n"
     ]
    },
    {
     "data": {
      "image/png": "[encoded data removed]",
      "text/plain": [
       "<Figure size 864x576 with 1 Axes>"
      ]
     },
     "metadata": {
      "needs_background": "light"
     },
     "output_type": "display_data"
    }
   ],
   "source": [
    "print(\"Optimal number of features : %d\" % rfecv.n_features_)\n",
    "\n",
    "# Plot number of features VS. cross-validation scores\n",
    "import seaborn as sns\n",
    "plt.figure(figsize=(12,8))\n",
    "plt.xlabel(\"Number of features selected\")\n",
    "plt.ylabel(\"Cross validation score (accuracy)\")\n",
    "plt.plot(\n",
    "    range(min_features_to_select, len(rfecv.grid_scores_) + min_features_to_select),\n",
    "    rfecv.grid_scores_,\n",
    ")\n",
    "plt.grid()\n",
    "plt.show()"
   ]
  },
  {
   "cell_type": "code",
   "execution_count": 43,
   "id": "d70f7f90",
   "metadata": {},
   "outputs": [
    {
     "name": "stdout",
     "output_type": "stream",
     "text": [
      "0.5147472890778668\n"
     ]
    }
   ],
   "source": [
    "# predict site_eui of X_test\n",
    "y_pred = rfecv.predict(X_train)\n",
    "\n",
    "# evaluate the model on test set\n",
    "r2 = sklearn.metrics.r2_score(y_train, y_pred)\n",
    "print(r2)"
   ]
  },
  {
   "cell_type": "code",
   "execution_count": 44,
   "id": "d86f57e0",
   "metadata": {},
   "outputs": [
    {
     "data": {
      "text/plain": [
       "40.74967215261417"
      ]
     },
     "execution_count": 44,
     "metadata": {},
     "output_type": "execute_result"
    }
   ],
   "source": [
    "# Root Mean Squared Error\n",
    "RMSE= np.sqrt(np.square(np.subtract(y_train, y_pred)).mean())\n",
    "RMSE"
   ]
  },
  {
   "cell_type": "code",
   "execution_count": 45,
   "id": "4d284920",
   "metadata": {},
   "outputs": [
    {
     "name": "stdout",
     "output_type": "stream",
     "text": [
      "0.42222376255119287\n"
     ]
    }
   ],
   "source": [
    "# predict site_eui of X_test\n",
    "y_pred = rfecv.predict(X_test)\n",
    "\n",
    "# evaluate the model on test set\n",
    "r2 = sklearn.metrics.r2_score(y_test, y_pred)\n",
    "print(r2)"
   ]
  },
  {
   "cell_type": "code",
   "execution_count": 46,
   "id": "644bdf40",
   "metadata": {},
   "outputs": [
    {
     "data": {
      "text/plain": [
       "41.88466907259907"
      ]
     },
     "execution_count": 46,
     "metadata": {},
     "output_type": "execute_result"
    }
   ],
   "source": [
    "# Root Mean Squared Error\n",
    "RMSE= np.sqrt(np.square(np.subtract(y_test, y_pred)).mean())\n",
    "RMSE"
   ]
  },
  {
   "cell_type": "code",
   "execution_count": 47,
   "id": "0f4c1f74",
   "metadata": {},
   "outputs": [
    {
     "name": "stdout",
     "output_type": "stream",
     "text": [
      "['state_factor', 'facility_type', 'building_class', 'floor_area', 'energy_star_rating', 'building_age']\n"
     ]
    }
   ],
   "source": [
    "columns = X.columns\n",
    "rfecv_features = []\n",
    "\n",
    "for col, selected in zip(columns, rfecv.get_support()):\n",
    "    if selected:\n",
    "        rfecv_features.append(col)\n",
    "print(rfecv_features)"
   ]
  },
  {
   "cell_type": "code",
   "execution_count": 49,
   "id": "fda71bd0",
   "metadata": {},
   "outputs": [
    {
     "data": {
      "text/html": [
       "<div>\n",
       "<style scoped>\n",
       "    .dataframe tbody tr th:only-of-type {\n",
       "        vertical-align: middle;\n",
       "    }\n",
       "\n",
       "    .dataframe tbody tr th {\n",
       "        vertical-align: top;\n",
       "    }\n",
       "\n",
       "    .dataframe thead th {\n",
       "        text-align: right;\n",
       "    }\n",
       "</style>\n",
       "<table border=\"1\" class=\"dataframe\">\n",
       "  <thead>\n",
       "    <tr style=\"text-align: right;\">\n",
       "      <th></th>\n",
       "      <th>state_factor</th>\n",
       "      <th>facility_type</th>\n",
       "      <th>building_class</th>\n",
       "      <th>floor_area</th>\n",
       "      <th>energy_star_rating</th>\n",
       "      <th>building_age</th>\n",
       "    </tr>\n",
       "    <tr>\n",
       "      <th>id</th>\n",
       "      <th></th>\n",
       "      <th></th>\n",
       "      <th></th>\n",
       "      <th></th>\n",
       "      <th></th>\n",
       "      <th></th>\n",
       "    </tr>\n",
       "  </thead>\n",
       "  <tbody>\n",
       "    <tr>\n",
       "      <th>0</th>\n",
       "      <td>0.0</td>\n",
       "      <td>13.0</td>\n",
       "      <td>0.0</td>\n",
       "      <td>0.009359</td>\n",
       "      <td>0.11</td>\n",
       "      <td>0.036228</td>\n",
       "    </tr>\n",
       "    <tr>\n",
       "      <th>1</th>\n",
       "      <td>0.0</td>\n",
       "      <td>55.0</td>\n",
       "      <td>0.0</td>\n",
       "      <td>0.042855</td>\n",
       "      <td>0.45</td>\n",
       "      <td>0.029777</td>\n",
       "    </tr>\n",
       "    <tr>\n",
       "      <th>2</th>\n",
       "      <td>0.0</td>\n",
       "      <td>48.0</td>\n",
       "      <td>0.0</td>\n",
       "      <td>0.043804</td>\n",
       "      <td>0.97</td>\n",
       "      <td>0.031762</td>\n",
       "    </tr>\n",
       "    <tr>\n",
       "      <th>3</th>\n",
       "      <td>0.0</td>\n",
       "      <td>6.0</td>\n",
       "      <td>0.0</td>\n",
       "      <td>0.008427</td>\n",
       "      <td>0.46</td>\n",
       "      <td>0.017370</td>\n",
       "    </tr>\n",
       "    <tr>\n",
       "      <th>4</th>\n",
       "      <td>0.0</td>\n",
       "      <td>56.0</td>\n",
       "      <td>0.0</td>\n",
       "      <td>0.010108</td>\n",
       "      <td>1.00</td>\n",
       "      <td>0.014888</td>\n",
       "    </tr>\n",
       "  </tbody>\n",
       "</table>\n",
       "</div>"
      ],
      "text/plain": [
       "    state_factor  facility_type  building_class  floor_area  \\\n",
       "id                                                            \n",
       "0            0.0           13.0             0.0    0.009359   \n",
       "1            0.0           55.0             0.0    0.042855   \n",
       "2            0.0           48.0             0.0    0.043804   \n",
       "3            0.0            6.0             0.0    0.008427   \n",
       "4            0.0           56.0             0.0    0.010108   \n",
       "\n",
       "    energy_star_rating  building_age  \n",
       "id                                    \n",
       "0                 0.11      0.036228  \n",
       "1                 0.45      0.029777  \n",
       "2                 0.97      0.031762  \n",
       "3                 0.46      0.017370  \n",
       "4                 1.00      0.014888  "
      ]
     },
     "execution_count": 49,
     "metadata": {},
     "output_type": "execute_result"
    }
   ],
   "source": [
    "X_new_df = X.iloc[:, rfecv.support_]\n",
    "X_new_df.head()"
   ]
  },
  {
   "cell_type": "code",
   "execution_count": 48,
   "id": "ac876cc5",
   "metadata": {},
   "outputs": [
    {
     "data": {
      "image/png": "[encoded data removed]",
      "text/plain": [
       "<Figure size 864x576 with 1 Axes>"
      ]
     },
     "metadata": {
      "needs_background": "light"
     },
     "output_type": "display_data"
    }
   ],
   "source": [
    "plt.figure(figsize=(12,8))\n",
    "ax1 = sns.distplot(y_test, hist = False, color = 'r', label = 'actual')\n",
    "sns.distplot(y_pred, hist = False, color = 'b', label = 'prediction', ax = ax1)\n",
    "plt.legend()\n",
    "plt.show()"
   ]
  },
  {
   "cell_type": "code",
   "execution_count": null,
   "id": "ac4324a5",
   "metadata": {},
   "outputs": [],
   "source": []
  }
 ],
 "metadata": {
  "celltoolbar": "Raw Cell Format",
  "colab": {
   "collapsed_sections": [
    "B4Pr2K88Bc7n"
   ],
   "provenance": []
  },
  "gpuClass": "standard",
  "kernelspec": {
   "display_name": "Python 3",
   "language": "python",
   "name": "python3"
  },
  "language_info": {
   "codemirror_mode": {
    "name": "ipython",
    "version": 3
   },
   "file_extension": ".py",
   "mimetype": "text/x-python",
   "name": "python",
   "nbconvert_exporter": "python",
   "pygments_lexer": "ipython3",
   "version": "3.8.8"
  }
 },
 "nbformat": 4,
 "nbformat_minor": 5
}
